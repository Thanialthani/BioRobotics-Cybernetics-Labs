{
 "cells": [
  {
   "cell_type": "markdown",
   "metadata": {},
   "source": [
    "# Running an Experiment\n",
    "Below is code to run an experiment with EEG-Notebooks. The specific experiment we are looking at is the P300 task.\n",
    "\n",
    "Feel free to rename your session and subject numbers\n"
   ]
  },
  {
   "cell_type": "code",
   "execution_count": null,
   "metadata": {},
   "outputs": [],
   "source": [
    "!pip3 install -r requirements.txt"
   ]
  },
  {
   "cell_type": "code",
   "execution_count": 2,
   "metadata": {},
   "outputs": [
    {
     "name": "stdout",
     "output_type": "stream",
     "text": [
      "84.6169 \tWARNING \tUser requested fullscreen with size [1600  900], but screen is actually [2194, 1371]. Using actual size\n",
      "86.7708 \tWARNING \tCouldn't measure a consistent frame rate.\n",
      "  - Is your graphics card set to sync to vertical blank?\n",
      "  - Are you running other processes on your computer?\n",
      "\n",
      "86.8301 \tWARNING \tUser requested fullscreen with size [1600  900], but screen is actually [2194, 1371]. Using actual size\n",
      "97.9579 \tWARNING \tt of last frame was 11187.29ms (=1/0)\n",
      "98.2608 \tWARNING \tt of last frame was 302.86ms (=1/3)\n",
      "98.6841 \tWARNING \tt of last frame was 423.35ms (=1/2)\n",
      "98.9869 \tWARNING \tt of last frame was 302.79ms (=1/3)\n",
      "99.5729 \tWARNING \tMultiple dropped frames have occurred - I'll stop bothering you about them!\n"
     ]
    },
    {
     "data": {
      "text/plain": [
       "WindowsPath('C:/Users/saif_/.eegnb/data/visual_p300/local/unicorn/subject0999/session999/recording_2023-04-11-20.27.49.csv')"
      ]
     },
     "metadata": {},
     "output_type": "display_data"
    }
   ],
   "source": [
    "# Imports\n",
    "import os\n",
    "from eegnb import generate_save_fn\n",
    "from eegnb.devices.eeg import EEG\n",
    "from eegnb.experiments.visual_p300 import p300\n",
    "from eegnb.analysis.utils import load_data\n",
    "\n",
    "# Define some variables\n",
    "board_name = 'unicorn'\n",
    "experiment = 'visual_p300'\n",
    "session = 999\n",
    "subject = 999 # a 'very British number'\n",
    "record_duration=120\n",
    "\n",
    "# Initiate EEG device\n",
    "eeg_device = EEG(device=board_name)\n",
    "\n",
    "# Create output filename\n",
    "save_fn = generate_save_fn(board_name, experiment, subject, session)\n",
    "\n",
    "# Run experiment\n",
    "p300.present(duration=record_duration, eeg=eeg_device, save_fn=save_fn)\n",
    "\n",
    "# Display output file path\n",
    "display(save_fn)"
   ]
  },
  {
   "cell_type": "code",
   "execution_count": null,
   "metadata": {},
   "outputs": [],
   "source": []
  },
  {
   "cell_type": "code",
   "execution_count": null,
   "metadata": {},
   "outputs": [],
   "source": []
  }
 ],
 "metadata": {
  "kernelspec": {
   "display_name": "Python 3",
   "language": "python",
   "name": "python3"
  },
  "language_info": {
   "codemirror_mode": {
    "name": "ipython",
    "version": 3
   },
   "file_extension": ".py",
   "mimetype": "text/x-python",
   "name": "python",
   "nbconvert_exporter": "python",
   "pygments_lexer": "ipython3",
   "version": "3.7.16"
  }
 },
 "nbformat": 4,
 "nbformat_minor": 2
}
