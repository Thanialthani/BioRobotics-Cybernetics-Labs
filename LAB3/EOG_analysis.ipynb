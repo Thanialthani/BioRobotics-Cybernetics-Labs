{
 "cells": [
  {
   "cell_type": "code",
   "execution_count": 1,
   "metadata": {
    "colab": {
     "base_uri": "https://localhost:8080/"
    },
    "id": "jL130ZjJLFZj",
    "outputId": "75cc4a7e-f271-46b8-8c58-5575b27a7949",
    "ExecuteTime": {
     "end_time": "2025-04-10T14:10:04.452872Z",
     "start_time": "2025-04-10T14:09:53.314887Z"
    }
   },
   "outputs": [
    {
     "name": "stdout",
     "output_type": "stream",
     "text": [
      "Collecting opensignalsreader\r\n",
      "  Downloading opensignalsreader-0.2.2-py3-none-any.whl.metadata (7.7 kB)\r\n",
      "Requirement already satisfied: numpy in /Users/thanialthani/opt/anaconda3/envs/Udacity-DA/lib/python3.8/site-packages (from opensignalsreader) (1.24.3)\r\n",
      "Collecting matplotlib (from opensignalsreader)\r\n",
      "  Downloading matplotlib-3.7.5-cp38-cp38-macosx_10_12_x86_64.whl.metadata (5.7 kB)\r\n",
      "Collecting contourpy>=1.0.1 (from matplotlib->opensignalsreader)\r\n",
      "  Downloading contourpy-1.1.1-cp38-cp38-macosx_10_9_x86_64.whl.metadata (5.9 kB)\r\n",
      "Collecting cycler>=0.10 (from matplotlib->opensignalsreader)\r\n",
      "  Downloading cycler-0.12.1-py3-none-any.whl.metadata (3.8 kB)\r\n",
      "Collecting fonttools>=4.22.0 (from matplotlib->opensignalsreader)\r\n",
      "  Downloading fonttools-4.57.0-cp38-cp38-macosx_10_9_x86_64.whl.metadata (102 kB)\r\n",
      "Collecting kiwisolver>=1.0.1 (from matplotlib->opensignalsreader)\r\n",
      "  Downloading kiwisolver-1.4.7-cp38-cp38-macosx_10_9_x86_64.whl.metadata (6.3 kB)\r\n",
      "Requirement already satisfied: packaging>=20.0 in /Users/thanialthani/opt/anaconda3/envs/Udacity-DA/lib/python3.8/site-packages (from matplotlib->opensignalsreader) (24.1)\r\n",
      "Collecting pillow>=6.2.0 (from matplotlib->opensignalsreader)\r\n",
      "  Downloading pillow-10.4.0-cp38-cp38-macosx_10_10_x86_64.whl.metadata (9.2 kB)\r\n",
      "Collecting pyparsing>=2.3.1 (from matplotlib->opensignalsreader)\r\n",
      "  Downloading pyparsing-3.1.4-py3-none-any.whl.metadata (5.1 kB)\r\n",
      "Requirement already satisfied: python-dateutil>=2.7 in /Users/thanialthani/opt/anaconda3/envs/Udacity-DA/lib/python3.8/site-packages (from matplotlib->opensignalsreader) (2.9.0.post0)\r\n",
      "Requirement already satisfied: importlib-resources>=3.2.0 in /Users/thanialthani/opt/anaconda3/envs/Udacity-DA/lib/python3.8/site-packages (from matplotlib->opensignalsreader) (6.4.0)\r\n",
      "Requirement already satisfied: zipp>=3.1.0 in /Users/thanialthani/opt/anaconda3/envs/Udacity-DA/lib/python3.8/site-packages (from importlib-resources>=3.2.0->matplotlib->opensignalsreader) (3.20.2)\r\n",
      "Requirement already satisfied: six>=1.5 in /Users/thanialthani/opt/anaconda3/envs/Udacity-DA/lib/python3.8/site-packages (from python-dateutil>=2.7->matplotlib->opensignalsreader) (1.16.0)\r\n",
      "Downloading opensignalsreader-0.2.2-py3-none-any.whl (55 kB)\r\n",
      "Downloading matplotlib-3.7.5-cp38-cp38-macosx_10_12_x86_64.whl (7.4 MB)\r\n",
      "\u001B[2K   \u001B[90m━━━━━━━━━━━━━━━━━━━━━━━━━━━━━━━━━━━━━━━━\u001B[0m \u001B[32m7.4/7.4 MB\u001B[0m \u001B[31m3.2 MB/s\u001B[0m eta \u001B[36m0:00:00\u001B[0m00:01\u001B[0m00:01\u001B[0m\r\n",
      "\u001B[?25hDownloading contourpy-1.1.1-cp38-cp38-macosx_10_9_x86_64.whl (247 kB)\r\n",
      "Downloading cycler-0.12.1-py3-none-any.whl (8.3 kB)\r\n",
      "Downloading fonttools-4.57.0-cp38-cp38-macosx_10_9_x86_64.whl (2.3 MB)\r\n",
      "\u001B[2K   \u001B[90m━━━━━━━━━━━━━━━━━━━━━━━━━━━━━━━━━━━━━━━━\u001B[0m \u001B[32m2.3/2.3 MB\u001B[0m \u001B[31m7.5 MB/s\u001B[0m eta \u001B[36m0:00:00\u001B[0mta \u001B[36m0:00:01\u001B[0m\r\n",
      "\u001B[?25hDownloading kiwisolver-1.4.7-cp38-cp38-macosx_10_9_x86_64.whl (65 kB)\r\n",
      "Downloading pillow-10.4.0-cp38-cp38-macosx_10_10_x86_64.whl (3.5 MB)\r\n",
      "\u001B[2K   \u001B[90m━━━━━━━━━━━━━━━━━━━━━━━━━━━━━━━━━━━━━━━━\u001B[0m \u001B[32m3.5/3.5 MB\u001B[0m \u001B[31m15.0 MB/s\u001B[0m eta \u001B[36m0:00:00\u001B[0ma \u001B[36m0:00:01\u001B[0m\r\n",
      "\u001B[?25hDownloading pyparsing-3.1.4-py3-none-any.whl (104 kB)\r\n",
      "Installing collected packages: pyparsing, pillow, kiwisolver, fonttools, cycler, contourpy, matplotlib, opensignalsreader\r\n",
      "Successfully installed contourpy-1.1.1 cycler-0.12.1 fonttools-4.57.0 kiwisolver-1.4.7 matplotlib-3.7.5 opensignalsreader-0.2.2 pillow-10.4.0 pyparsing-3.1.4\r\n"
     ]
    }
   ],
   "source": [
    "!pip install opensignalsreader"
   ]
  },
  {
   "cell_type": "code",
   "execution_count": 2,
   "metadata": {
    "colab": {
     "base_uri": "https://localhost:8080/",
     "height": 1000
    },
    "id": "rh0y2Ex2RZhK",
    "outputId": "f916d80e-3ff0-465f-f54e-313aa375f610",
    "ExecuteTime": {
     "end_time": "2025-04-10T14:10:50.775148Z",
     "start_time": "2025-04-10T14:10:04.455420Z"
    }
   },
   "outputs": [
    {
     "name": "stdout",
     "output_type": "stream",
     "text": [
      "Collecting biosignalsnotebooks\r\n",
      "  Downloading biosignalsnotebooks-0.6.14-py3-none-any.whl.metadata (7.0 kB)\r\n",
      "Collecting numpy==1.22.2 (from biosignalsnotebooks)\r\n",
      "  Downloading numpy-1.22.2-cp38-cp38-macosx_10_14_x86_64.whl.metadata (2.0 kB)\r\n",
      "Requirement already satisfied: matplotlib in /Users/thanialthani/opt/anaconda3/envs/Udacity-DA/lib/python3.8/site-packages (from biosignalsnotebooks) (3.7.5)\r\n",
      "Collecting scipy==1.8.1 (from biosignalsnotebooks)\r\n",
      "  Downloading scipy-1.8.1-cp38-cp38-macosx_12_0_universal2.macosx_10_9_x86_64.whl.metadata (2.2 kB)\r\n",
      "Collecting h5py (from biosignalsnotebooks)\r\n",
      "  Downloading h5py-3.11.0-cp38-cp38-macosx_10_9_x86_64.whl.metadata (2.5 kB)\r\n",
      "Collecting wget (from biosignalsnotebooks)\r\n",
      "  Downloading wget-3.2.zip (10 kB)\r\n",
      "  Preparing metadata (setup.py) ... \u001B[?25ldone\r\n",
      "\u001B[?25hCollecting datetime (from biosignalsnotebooks)\r\n",
      "  Downloading DateTime-5.5-py3-none-any.whl.metadata (33 kB)\r\n",
      "Collecting bokeh==2.4.3 (from biosignalsnotebooks)\r\n",
      "  Downloading bokeh-2.4.3-py3-none-any.whl.metadata (14 kB)\r\n",
      "Requirement already satisfied: IPython in /Users/thanialthani/opt/anaconda3/envs/Udacity-DA/lib/python3.8/site-packages (from biosignalsnotebooks) (8.12.2)\r\n",
      "Requirement already satisfied: pandas in /Users/thanialthani/opt/anaconda3/envs/Udacity-DA/lib/python3.8/site-packages (from biosignalsnotebooks) (2.0.3)\r\n",
      "Requirement already satisfied: nbformat in /Users/thanialthani/opt/anaconda3/envs/Udacity-DA/lib/python3.8/site-packages (from biosignalsnotebooks) (5.10.4)\r\n",
      "Requirement already satisfied: requests in /Users/thanialthani/opt/anaconda3/envs/Udacity-DA/lib/python3.8/site-packages (from biosignalsnotebooks) (2.32.3)\r\n",
      "Collecting libmagic (from biosignalsnotebooks)\r\n",
      "  Downloading libmagic-1.0.tar.gz (3.7 kB)\r\n",
      "  Preparing metadata (setup.py) ... \u001B[?25ldone\r\n",
      "\u001B[?25hCollecting python-magic-bin (from biosignalsnotebooks)\r\n",
      "  Downloading python_magic_bin-0.4.14-py2.py3-none-macosx_10_6_intel.whl.metadata (710 bytes)\r\n",
      "Requirement already satisfied: Jinja2>=2.9 in /Users/thanialthani/opt/anaconda3/envs/Udacity-DA/lib/python3.8/site-packages (from bokeh==2.4.3->biosignalsnotebooks) (3.1.4)\r\n",
      "Requirement already satisfied: packaging>=16.8 in /Users/thanialthani/opt/anaconda3/envs/Udacity-DA/lib/python3.8/site-packages (from bokeh==2.4.3->biosignalsnotebooks) (24.1)\r\n",
      "Requirement already satisfied: pillow>=7.1.0 in /Users/thanialthani/opt/anaconda3/envs/Udacity-DA/lib/python3.8/site-packages (from bokeh==2.4.3->biosignalsnotebooks) (10.4.0)\r\n",
      "Requirement already satisfied: PyYAML>=3.10 in /Users/thanialthani/opt/anaconda3/envs/Udacity-DA/lib/python3.8/site-packages (from bokeh==2.4.3->biosignalsnotebooks) (6.0.2)\r\n",
      "Requirement already satisfied: tornado>=5.1 in /Users/thanialthani/opt/anaconda3/envs/Udacity-DA/lib/python3.8/site-packages (from bokeh==2.4.3->biosignalsnotebooks) (6.4.1)\r\n",
      "Requirement already satisfied: typing-extensions>=3.10.0 in /Users/thanialthani/opt/anaconda3/envs/Udacity-DA/lib/python3.8/site-packages (from bokeh==2.4.3->biosignalsnotebooks) (4.11.0)\r\n",
      "Collecting zope.interface (from datetime->biosignalsnotebooks)\r\n",
      "  Downloading zope.interface-7.2-cp38-cp38-macosx_10_9_x86_64.whl.metadata (44 kB)\r\n",
      "Requirement already satisfied: pytz in /Users/thanialthani/opt/anaconda3/envs/Udacity-DA/lib/python3.8/site-packages (from datetime->biosignalsnotebooks) (2024.1)\r\n",
      "Requirement already satisfied: backcall in /Users/thanialthani/opt/anaconda3/envs/Udacity-DA/lib/python3.8/site-packages (from IPython->biosignalsnotebooks) (0.2.0)\r\n",
      "Requirement already satisfied: decorator in /Users/thanialthani/opt/anaconda3/envs/Udacity-DA/lib/python3.8/site-packages (from IPython->biosignalsnotebooks) (5.1.1)\r\n",
      "Requirement already satisfied: jedi>=0.16 in /Users/thanialthani/opt/anaconda3/envs/Udacity-DA/lib/python3.8/site-packages (from IPython->biosignalsnotebooks) (0.19.1)\r\n",
      "Requirement already satisfied: matplotlib-inline in /Users/thanialthani/opt/anaconda3/envs/Udacity-DA/lib/python3.8/site-packages (from IPython->biosignalsnotebooks) (0.1.6)\r\n",
      "Requirement already satisfied: pickleshare in /Users/thanialthani/opt/anaconda3/envs/Udacity-DA/lib/python3.8/site-packages (from IPython->biosignalsnotebooks) (0.7.5)\r\n",
      "Requirement already satisfied: prompt-toolkit!=3.0.37,<3.1.0,>=3.0.30 in /Users/thanialthani/opt/anaconda3/envs/Udacity-DA/lib/python3.8/site-packages (from IPython->biosignalsnotebooks) (3.0.43)\r\n",
      "Requirement already satisfied: pygments>=2.4.0 in /Users/thanialthani/opt/anaconda3/envs/Udacity-DA/lib/python3.8/site-packages (from IPython->biosignalsnotebooks) (2.15.1)\r\n",
      "Requirement already satisfied: stack-data in /Users/thanialthani/opt/anaconda3/envs/Udacity-DA/lib/python3.8/site-packages (from IPython->biosignalsnotebooks) (0.2.0)\r\n",
      "Requirement already satisfied: traitlets>=5 in /Users/thanialthani/opt/anaconda3/envs/Udacity-DA/lib/python3.8/site-packages (from IPython->biosignalsnotebooks) (5.14.3)\r\n",
      "Requirement already satisfied: pexpect>4.3 in /Users/thanialthani/opt/anaconda3/envs/Udacity-DA/lib/python3.8/site-packages (from IPython->biosignalsnotebooks) (4.8.0)\r\n",
      "Requirement already satisfied: appnope in /Users/thanialthani/opt/anaconda3/envs/Udacity-DA/lib/python3.8/site-packages (from IPython->biosignalsnotebooks) (0.1.2)\r\n",
      "Requirement already satisfied: contourpy>=1.0.1 in /Users/thanialthani/opt/anaconda3/envs/Udacity-DA/lib/python3.8/site-packages (from matplotlib->biosignalsnotebooks) (1.1.1)\r\n",
      "Requirement already satisfied: cycler>=0.10 in /Users/thanialthani/opt/anaconda3/envs/Udacity-DA/lib/python3.8/site-packages (from matplotlib->biosignalsnotebooks) (0.12.1)\r\n",
      "Requirement already satisfied: fonttools>=4.22.0 in /Users/thanialthani/opt/anaconda3/envs/Udacity-DA/lib/python3.8/site-packages (from matplotlib->biosignalsnotebooks) (4.57.0)\r\n",
      "Requirement already satisfied: kiwisolver>=1.0.1 in /Users/thanialthani/opt/anaconda3/envs/Udacity-DA/lib/python3.8/site-packages (from matplotlib->biosignalsnotebooks) (1.4.7)\r\n",
      "Requirement already satisfied: pyparsing>=2.3.1 in /Users/thanialthani/opt/anaconda3/envs/Udacity-DA/lib/python3.8/site-packages (from matplotlib->biosignalsnotebooks) (3.1.4)\r\n",
      "Requirement already satisfied: python-dateutil>=2.7 in /Users/thanialthani/opt/anaconda3/envs/Udacity-DA/lib/python3.8/site-packages (from matplotlib->biosignalsnotebooks) (2.9.0.post0)\r\n",
      "Requirement already satisfied: importlib-resources>=3.2.0 in /Users/thanialthani/opt/anaconda3/envs/Udacity-DA/lib/python3.8/site-packages (from matplotlib->biosignalsnotebooks) (6.4.0)\r\n",
      "Requirement already satisfied: fastjsonschema>=2.15 in /Users/thanialthani/opt/anaconda3/envs/Udacity-DA/lib/python3.8/site-packages (from nbformat->biosignalsnotebooks) (2.16.2)\r\n",
      "Requirement already satisfied: jsonschema>=2.6 in /Users/thanialthani/opt/anaconda3/envs/Udacity-DA/lib/python3.8/site-packages (from nbformat->biosignalsnotebooks) (4.23.0)\r\n",
      "Requirement already satisfied: jupyter-core!=5.0.*,>=4.12 in /Users/thanialthani/opt/anaconda3/envs/Udacity-DA/lib/python3.8/site-packages (from nbformat->biosignalsnotebooks) (5.7.2)\r\n",
      "Requirement already satisfied: tzdata>=2022.1 in /Users/thanialthani/opt/anaconda3/envs/Udacity-DA/lib/python3.8/site-packages (from pandas->biosignalsnotebooks) (2023.3)\r\n",
      "Requirement already satisfied: charset-normalizer<4,>=2 in /Users/thanialthani/opt/anaconda3/envs/Udacity-DA/lib/python3.8/site-packages (from requests->biosignalsnotebooks) (3.3.2)\r\n",
      "Requirement already satisfied: idna<4,>=2.5 in /Users/thanialthani/opt/anaconda3/envs/Udacity-DA/lib/python3.8/site-packages (from requests->biosignalsnotebooks) (3.7)\r\n",
      "Requirement already satisfied: urllib3<3,>=1.21.1 in /Users/thanialthani/opt/anaconda3/envs/Udacity-DA/lib/python3.8/site-packages (from requests->biosignalsnotebooks) (2.2.3)\r\n",
      "Requirement already satisfied: certifi>=2017.4.17 in /Users/thanialthani/opt/anaconda3/envs/Udacity-DA/lib/python3.8/site-packages (from requests->biosignalsnotebooks) (2024.8.30)\r\n",
      "Requirement already satisfied: zipp>=3.1.0 in /Users/thanialthani/opt/anaconda3/envs/Udacity-DA/lib/python3.8/site-packages (from importlib-resources>=3.2.0->matplotlib->biosignalsnotebooks) (3.20.2)\r\n",
      "Requirement already satisfied: parso<0.9.0,>=0.8.3 in /Users/thanialthani/opt/anaconda3/envs/Udacity-DA/lib/python3.8/site-packages (from jedi>=0.16->IPython->biosignalsnotebooks) (0.8.3)\r\n",
      "Requirement already satisfied: MarkupSafe>=2.0 in /Users/thanialthani/opt/anaconda3/envs/Udacity-DA/lib/python3.8/site-packages (from Jinja2>=2.9->bokeh==2.4.3->biosignalsnotebooks) (2.1.3)\r\n",
      "Requirement already satisfied: attrs>=22.2.0 in /Users/thanialthani/opt/anaconda3/envs/Udacity-DA/lib/python3.8/site-packages (from jsonschema>=2.6->nbformat->biosignalsnotebooks) (24.2.0)\r\n",
      "Requirement already satisfied: jsonschema-specifications>=2023.03.6 in /Users/thanialthani/opt/anaconda3/envs/Udacity-DA/lib/python3.8/site-packages (from jsonschema>=2.6->nbformat->biosignalsnotebooks) (2023.7.1)\r\n",
      "Requirement already satisfied: pkgutil-resolve-name>=1.3.10 in /Users/thanialthani/opt/anaconda3/envs/Udacity-DA/lib/python3.8/site-packages (from jsonschema>=2.6->nbformat->biosignalsnotebooks) (1.3.10)\r\n",
      "Requirement already satisfied: referencing>=0.28.4 in /Users/thanialthani/opt/anaconda3/envs/Udacity-DA/lib/python3.8/site-packages (from jsonschema>=2.6->nbformat->biosignalsnotebooks) (0.30.2)\r\n",
      "Requirement already satisfied: rpds-py>=0.7.1 in /Users/thanialthani/opt/anaconda3/envs/Udacity-DA/lib/python3.8/site-packages (from jsonschema>=2.6->nbformat->biosignalsnotebooks) (0.10.6)\r\n",
      "Requirement already satisfied: platformdirs>=2.5 in /Users/thanialthani/opt/anaconda3/envs/Udacity-DA/lib/python3.8/site-packages (from jupyter-core!=5.0.*,>=4.12->nbformat->biosignalsnotebooks) (3.10.0)\r\n",
      "Requirement already satisfied: ptyprocess>=0.5 in /Users/thanialthani/opt/anaconda3/envs/Udacity-DA/lib/python3.8/site-packages (from pexpect>4.3->IPython->biosignalsnotebooks) (0.7.0)\r\n",
      "Requirement already satisfied: wcwidth in /Users/thanialthani/opt/anaconda3/envs/Udacity-DA/lib/python3.8/site-packages (from prompt-toolkit!=3.0.37,<3.1.0,>=3.0.30->IPython->biosignalsnotebooks) (0.2.5)\r\n",
      "Requirement already satisfied: six>=1.5 in /Users/thanialthani/opt/anaconda3/envs/Udacity-DA/lib/python3.8/site-packages (from python-dateutil>=2.7->matplotlib->biosignalsnotebooks) (1.16.0)\r\n",
      "Requirement already satisfied: executing in /Users/thanialthani/opt/anaconda3/envs/Udacity-DA/lib/python3.8/site-packages (from stack-data->IPython->biosignalsnotebooks) (0.8.3)\r\n",
      "Requirement already satisfied: asttokens in /Users/thanialthani/opt/anaconda3/envs/Udacity-DA/lib/python3.8/site-packages (from stack-data->IPython->biosignalsnotebooks) (2.0.5)\r\n",
      "Requirement already satisfied: pure-eval in /Users/thanialthani/opt/anaconda3/envs/Udacity-DA/lib/python3.8/site-packages (from stack-data->IPython->biosignalsnotebooks) (0.2.2)\r\n",
      "Requirement already satisfied: setuptools in /Users/thanialthani/opt/anaconda3/envs/Udacity-DA/lib/python3.8/site-packages (from zope.interface->datetime->biosignalsnotebooks) (75.1.0)\r\n",
      "Downloading biosignalsnotebooks-0.6.14-py3-none-any.whl (39.1 MB)\r\n",
      "\u001B[2K   \u001B[90m━━━━━━━━━━━━━━━━━━━━━━━━━━━━━━━━━━━━━━━━\u001B[0m \u001B[32m39.1/39.1 MB\u001B[0m \u001B[31m2.9 MB/s\u001B[0m eta \u001B[36m0:00:00\u001B[0m00:01\u001B[0m00:01\u001B[0m\r\n",
      "\u001B[?25hDownloading bokeh-2.4.3-py3-none-any.whl (18.5 MB)\r\n",
      "\u001B[2K   \u001B[90m━━━━━━━━━━━━━━━━━━━━━━━━━━━━━━━━━━━━━━━━\u001B[0m \u001B[32m18.5/18.5 MB\u001B[0m \u001B[31m24.2 MB/s\u001B[0m eta \u001B[36m0:00:00\u001B[0ma \u001B[36m0:00:01\u001B[0m\r\n",
      "\u001B[?25hDownloading numpy-1.22.2-cp38-cp38-macosx_10_14_x86_64.whl (17.6 MB)\r\n",
      "\u001B[2K   \u001B[90m━━━━━━━━━━━━━━━━━━━━━━━━━━━━━━━━━━━━━━━━\u001B[0m \u001B[32m17.6/17.6 MB\u001B[0m \u001B[31m4.1 MB/s\u001B[0m eta \u001B[36m0:00:00\u001B[0ma \u001B[36m0:00:01\u001B[0m\r\n",
      "\u001B[?25hDownloading scipy-1.8.1-cp38-cp38-macosx_12_0_universal2.macosx_10_9_x86_64.whl (55.3 MB)\r\n",
      "\u001B[2K   \u001B[90m━━━━━━━━━━━━━━━━━━━━━━━━━━━━━━━━━━━━━━━━\u001B[0m \u001B[32m55.3/55.3 MB\u001B[0m \u001B[31m4.4 MB/s\u001B[0m eta \u001B[36m0:00:00\u001B[0m00:01\u001B[0m00:01\u001B[0m\r\n",
      "\u001B[?25hDownloading DateTime-5.5-py3-none-any.whl (52 kB)\r\n",
      "Downloading h5py-3.11.0-cp38-cp38-macosx_10_9_x86_64.whl (3.5 MB)\r\n",
      "\u001B[2K   \u001B[90m━━━━━━━━━━━━━━━━━━━━━━━━━━━━━━━━━━━━━━━━\u001B[0m \u001B[32m3.5/3.5 MB\u001B[0m \u001B[31m5.4 MB/s\u001B[0m eta \u001B[36m0:00:00\u001B[0m00:01\u001B[0m:00:01\u001B[0m\r\n",
      "\u001B[?25hDownloading python_magic_bin-0.4.14-py2.py3-none-macosx_10_6_intel.whl (334 kB)\r\n",
      "Downloading zope.interface-7.2-cp38-cp38-macosx_10_9_x86_64.whl (208 kB)\r\n",
      "Building wheels for collected packages: libmagic, wget\r\n",
      "  Building wheel for libmagic (setup.py) ... \u001B[?25ldone\r\n",
      "\u001B[?25h  Created wheel for libmagic: filename=libmagic-1.0-py3-none-any.whl size=4269 sha256=3e69d262adf0b7208df0bb9691257ddc71af7cee31c1fb79ecf2b28c1b9a506d\r\n",
      "  Stored in directory: /Users/thanialthani/Library/Caches/pip/wheels/68/33/a4/a404635e64d223a77f925132e51c1ccfdc32fd01d66b338f1a\r\n",
      "  Building wheel for wget (setup.py) ... \u001B[?25ldone\r\n",
      "\u001B[?25h  Created wheel for wget: filename=wget-3.2-py3-none-any.whl size=9656 sha256=e6d96de21416b621b9d9006efe9d538f13ba0fa0d47eccc1cec1a37cd3f3e2cb\r\n",
      "  Stored in directory: /Users/thanialthani/Library/Caches/pip/wheels/bd/a8/c3/3cf2c14a1837a4e04bd98631724e81f33f462d86a1d895fae0\r\n",
      "Successfully built libmagic wget\r\n",
      "Installing collected packages: wget, python-magic-bin, libmagic, zope.interface, numpy, scipy, h5py, datetime, bokeh, biosignalsnotebooks\r\n",
      "  Attempting uninstall: numpy\r\n",
      "    Found existing installation: numpy 1.24.3\r\n",
      "    Uninstalling numpy-1.24.3:\r\n",
      "      Successfully uninstalled numpy-1.24.3\r\n",
      "Successfully installed biosignalsnotebooks-0.6.14 bokeh-2.4.3 datetime-5.5 h5py-3.11.0 libmagic-1.0 numpy-1.22.2 python-magic-bin-0.4.14 scipy-1.8.1 wget-3.2 zope.interface-7.2\r\n"
     ]
    }
   ],
   "source": [
    "!pip install biosignalsnotebooks"
   ]
  },
  {
   "cell_type": "code",
   "execution_count": null,
   "metadata": {
    "id": "I8wevmzySEhr",
    "is_executing": true,
    "ExecuteTime": {
     "start_time": "2025-04-10T14:10:50.778750Z"
    }
   },
   "outputs": [],
   "source": [
    "# Package used for loading data from the input text file\n",
    "from numpy import loadtxt\n",
    "\n",
    "# biosignalsnotebooks python package\n",
    "import biosignalsnotebooks as bsnb\n",
    "data = loadtxt(\"SampleEOG_Blinking.txt\")"
   ]
  },
  {
   "cell_type": "code",
   "execution_count": null,
   "metadata": {
    "id": "krB7KqZaVk0n",
    "is_executing": true
   },
   "outputs": [],
   "source": [
    "# Package used for loading data from the input text file\n",
    "from numpy import loadtxt\n",
    "\n",
    "# biosignalsnotebooks python package\n",
    "import biosignalsnotebooks as bsnb\n",
    "data = loadtxt(\"opensignals_0007800f3067_2025-03-21_10-56-37.txt\")"
   ]
  },
  {
   "cell_type": "code",
   "execution_count": null,
   "metadata": {
    "colab": {
     "base_uri": "https://localhost:8080/"
    },
    "id": "arz-eXjJSf7h",
    "outputId": "aa0b2eb9-f7f8-4c33-baa4-71027bb7d2c0",
    "is_executing": true
   },
   "outputs": [],
   "source": [
    "print(data)"
   ]
  },
  {
   "cell_type": "code",
   "execution_count": null,
   "metadata": {
    "id": "ENSBm3FESWqq",
    "is_executing": true
   },
   "outputs": [],
   "source": [
    "sampling_rate = 1000"
   ]
  },
  {
   "cell_type": "code",
   "execution_count": null,
   "metadata": {
    "id": "LgylA_lHSXQS",
    "is_executing": true
   },
   "outputs": [],
   "source": [
    "time = bsnb.generate_time(data, sampling_rate)"
   ]
  },
  {
   "cell_type": "code",
   "execution_count": null,
   "metadata": {
    "colab": {
     "base_uri": "https://localhost:8080/"
    },
    "id": "P04iYm51SZFu",
    "outputId": "51f758cd-5908-4f5b-a037-1839c14670d2",
    "is_executing": true
   },
   "outputs": [],
   "source": [
    "print (data)"
   ]
  },
  {
   "cell_type": "code",
   "execution_count": null,
   "metadata": {
    "id": "nFklZ72gStg1",
    "is_executing": true
   },
   "outputs": [],
   "source": [
    "channel_column = 2"
   ]
  },
  {
   "cell_type": "code",
   "execution_count": null,
   "metadata": {
    "colab": {
     "base_uri": "https://localhost:8080/",
     "height": 352
    },
    "id": "Vgmlwg2LSuBw",
    "outputId": "611953f5-c77a-4f08-cf2a-8c97afbc0431",
    "is_executing": true
   },
   "outputs": [],
   "source": [
    "bsnb.plot(time, data[:, channel_column])"
   ]
  },
  {
   "cell_type": "code",
   "execution_count": null,
   "metadata": {
    "id": "AIU2ke92UxiP",
    "is_executing": true
   },
   "outputs": [],
   "source": [
    "# Base packages used in OpenSignals Tools Notebooks for plotting data\n",
    "from bokeh.plotting import figure, show\n",
    "from bokeh.io import output_notebook\n",
    "from bokeh.layouts import gridplot\n",
    "from bokeh.models.tools import *\n",
    "output_notebook(hide_banner=True)\n",
    "\n",
    "# Package for ensuring operations in arrays\n",
    "from numpy import average, linspace, random\n",
    "\n",
    "# Own opensignalstools package needed here for applying the default OpenSignals styles and for loading data from an acquisition\n",
    "# file.\n",
    "import biosignalsnotebooks as bsnb"
   ]
  },
  {
   "cell_type": "code",
   "execution_count": null,
   "metadata": {
    "id": "-jx6WNg0UyTG",
    "is_executing": true
   },
   "outputs": [],
   "source": [
    "# Load of data from a remote source\n",
    "data, header = bsnb.load(\"opensignals_0007800f3067_2025-03-21_10-56-37.txt\", get_header=True)"
   ]
  },
  {
   "cell_type": "code",
   "execution_count": null,
   "metadata": {
    "colab": {
     "base_uri": "https://localhost:8080/"
    },
    "id": "6AXUZFiXU1vx",
    "outputId": "93fcbf10-6f3f-414a-d40f-c73f86f0504d",
    "is_executing": true
   },
   "outputs": [],
   "source": [
    "print (\"\\033[1mHeader:\\n\\033[0m\" + str(header) + \"\\n\\033[1mData:\\033[0m\\n\" + str(data))"
   ]
  },
  {
   "cell_type": "code",
   "execution_count": null,
   "metadata": {
    "id": "Ul_D5d4CVGEw",
    "is_executing": true
   },
   "outputs": [],
   "source": [
    "signal = data[\"CH1\"]\n",
    "time = bsnb.generate_time(signal, header[\"sampling rate\"])"
   ]
  },
  {
   "cell_type": "code",
   "execution_count": null,
   "metadata": {
    "id": "pzQhhy0oVLSD",
    "is_executing": true
   },
   "outputs": [],
   "source": [
    "# Noise samples and change of the baseline level\n",
    "baseline = average(signal)\n",
    "baseline_shift = 0.50 * baseline\n",
    "data_noise = signal + random.normal(0, 1000, len(signal)) + baseline_shift"
   ]
  },
  {
   "cell_type": "code",
   "execution_count": null,
   "metadata": {
    "colab": {
     "base_uri": "https://localhost:8080/",
     "height": 352
    },
    "id": "w_mnY9RHVGcq",
    "outputId": "30e5dc90-81c2-4618-e0cd-dd006eb1d3b3",
    "is_executing": true
   },
   "outputs": [],
   "source": [
    "bsnb.plot([time, time], [signal, data_noise], legend_label=[\"Original Data\", \"Noisy Data\"], y_axis_label=[\"Raw Data\", \"Raw Data\"], x_axis_label=\"Time (s)\")"
   ]
  },
  {
   "cell_type": "code",
   "execution_count": null,
   "metadata": {
    "is_executing": true
   },
   "outputs": [],
   "source": []
  }
 ],
 "metadata": {
  "colab": {
   "provenance": []
  },
  "kernelspec": {
   "display_name": "Python 3 (ipykernel)",
   "language": "python",
   "name": "python3"
  },
  "language_info": {
   "codemirror_mode": {
    "name": "ipython",
    "version": 3
   },
   "file_extension": ".py",
   "mimetype": "text/x-python",
   "name": "python",
   "nbconvert_exporter": "python",
   "pygments_lexer": "ipython3",
   "version": "3.9.13"
  }
 },
 "nbformat": 4,
 "nbformat_minor": 1
}
