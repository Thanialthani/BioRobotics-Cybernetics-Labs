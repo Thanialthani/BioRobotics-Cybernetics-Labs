{
 "cells": [
  {
   "cell_type": "markdown",
   "metadata": {},
   "source": [
    "# Lab 1/2 EMG Processing\n",
    "\n",
    "This lab will go into the basics of real-time classification using EMG signals. "
   ]
  },
  {
   "cell_type": "code",
   "execution_count": 1,
   "metadata": {
    "ExecuteTime": {
     "end_time": "2025-04-19T08:00:36.340976Z",
     "start_time": "2025-04-19T08:00:35.223936Z"
    }
   },
   "outputs": [],
   "source": [
    "import pandas as pd\n",
    "import numpy as np\n",
    "import scipy\n",
    "import scipy.signal\n",
    "import matplotlib.pyplot as plt"
   ]
  },
  {
   "cell_type": "code",
   "execution_count": 2,
   "metadata": {
    "ExecuteTime": {
     "end_time": "2025-04-19T08:00:39.869165Z",
     "start_time": "2025-04-19T08:00:36.342603Z"
    }
   },
   "outputs": [],
   "source": [
    "''' If you have pyqt installed, this command will pop out interactive windows for graphs'''\n",
    "%matplotlib qt"
   ]
  },
  {
   "cell_type": "markdown",
   "metadata": {},
   "source": [
    "# Myo Data Processing\n",
    "The following cells are for EMG data processing from the sample file"
   ]
  },
  {
   "cell_type": "code",
   "execution_count": 3,
   "metadata": {
    "ExecuteTime": {
     "end_time": "2025-04-19T08:00:44.240150Z",
     "start_time": "2025-04-19T08:00:39.870434Z"
    }
   },
   "outputs": [
    {
     "data": {
      "text/plain": "              DeviceID Warm?  Sync   Arm                   Timestamp  \\\n0        2291479052128  warm  True  left  2019-02-14 14:46:53 744402   \n1        2291479052128  warm  True  left  2019-02-14 14:46:53 744402   \n2        2291479052128  warm  True  left  2019-02-14 14:46:53 752382   \n3        2291479052128  warm  True  left  2019-02-14 14:46:53 752382   \n4        2291479052128  warm  True  left  2019-02-14 14:46:53 756350   \n...                ...   ...   ...   ...                         ...   \n1555959  2291479052128  warm  True  left  2019-02-14 16:13:28 749540   \n1555962  2291479052128  warm  True  left  2019-02-14 16:13:28 758516   \n1555963  2291479052128  warm  True  left  2019-02-14 16:13:28 758516   \n1555966  2291479052128  warm  True  left  2019-02-14 16:13:28 764500   \n1555967  2291479052128  warm  True  left  2019-02-14 16:13:28 764500   \n\n         Orientation_W  Orientation_X  Orientation_Y  Orientation_Z     Acc_X  \\\n0            -0.514465      -0.485779       0.287659      -0.645508  1.326660   \n1            -0.514465      -0.485779       0.287659      -0.645508  1.326660   \n2            -0.514465      -0.485779       0.287659      -0.645508  1.326660   \n3            -0.514465      -0.485779       0.287659      -0.645508  1.326660   \n4            -0.519470      -0.484497       0.291138      -0.640930  1.186035   \n...                ...            ...            ...            ...       ...   \n1555959      -0.416260       0.036682      -0.058777      -0.906616  0.765625   \n1555962      -0.413208       0.032410      -0.063416      -0.907898  0.768066   \n1555963      -0.413208       0.032410      -0.063416      -0.907898  0.768066   \n1555966      -0.413208       0.032410      -0.063416      -0.907898  0.768066   \n1555967      -0.413208       0.032410      -0.063416      -0.907898  0.768066   \n\n         ...  EMG_4  EMG_5  EMG_6  EMG_7  EMG_8 Locked  RSSI      Roll  \\\n0        ...     -2      1     -1      1     -1  False     0  0.398451   \n1        ...     -3     -1      1      0      0  False     0  0.398451   \n2        ...      0     -1     -2      1     -1  False     0  0.398451   \n3        ...      0      0     -1     -2     -1  False     0  0.398451   \n4        ...      0      2     -1      1      1  False     0  0.420894   \n...      ...    ...    ...    ...    ...    ...    ...   ...       ...   \n1555959  ...      7   -110   -117    -33    -12  False     0  0.117068   \n1555962  ...     -3   -118   -114    -28     -2  False     0  0.135021   \n1555963  ...     -1    -82   -128    -16     -2  False     0  0.135021   \n1555966  ...     12   -104   -119    -13     -1  False     0  0.135021   \n1555967  ...     -4    -92   -127      1      5  False     0  0.135021   \n\n            Pitch       Yaw  \n0       -1.233521  1.567341  \n1       -1.233521  1.567341  \n2       -1.233521  1.567341  \n3       -1.233521  1.567341  \n4       -1.246889  1.542884  \n...           ...       ...  \n1555959 -0.861911 -3.114586  \n1555962 -0.854758 -3.131782  \n1555963 -0.854758 -3.131782  \n1555966 -0.854758 -3.131782  \n1555967 -0.854758 -3.131782  \n\n[1405884 rows x 29 columns]",
      "text/html": "<div>\n<style scoped>\n    .dataframe tbody tr th:only-of-type {\n        vertical-align: middle;\n    }\n\n    .dataframe tbody tr th {\n        vertical-align: top;\n    }\n\n    .dataframe thead th {\n        text-align: right;\n    }\n</style>\n<table border=\"1\" class=\"dataframe\">\n  <thead>\n    <tr style=\"text-align: right;\">\n      <th></th>\n      <th>DeviceID</th>\n      <th>Warm?</th>\n      <th>Sync</th>\n      <th>Arm</th>\n      <th>Timestamp</th>\n      <th>Orientation_W</th>\n      <th>Orientation_X</th>\n      <th>Orientation_Y</th>\n      <th>Orientation_Z</th>\n      <th>Acc_X</th>\n      <th>...</th>\n      <th>EMG_4</th>\n      <th>EMG_5</th>\n      <th>EMG_6</th>\n      <th>EMG_7</th>\n      <th>EMG_8</th>\n      <th>Locked</th>\n      <th>RSSI</th>\n      <th>Roll</th>\n      <th>Pitch</th>\n      <th>Yaw</th>\n    </tr>\n  </thead>\n  <tbody>\n    <tr>\n      <th>0</th>\n      <td>2291479052128</td>\n      <td>warm</td>\n      <td>True</td>\n      <td>left</td>\n      <td>2019-02-14 14:46:53 744402</td>\n      <td>-0.514465</td>\n      <td>-0.485779</td>\n      <td>0.287659</td>\n      <td>-0.645508</td>\n      <td>1.326660</td>\n      <td>...</td>\n      <td>-2</td>\n      <td>1</td>\n      <td>-1</td>\n      <td>1</td>\n      <td>-1</td>\n      <td>False</td>\n      <td>0</td>\n      <td>0.398451</td>\n      <td>-1.233521</td>\n      <td>1.567341</td>\n    </tr>\n    <tr>\n      <th>1</th>\n      <td>2291479052128</td>\n      <td>warm</td>\n      <td>True</td>\n      <td>left</td>\n      <td>2019-02-14 14:46:53 744402</td>\n      <td>-0.514465</td>\n      <td>-0.485779</td>\n      <td>0.287659</td>\n      <td>-0.645508</td>\n      <td>1.326660</td>\n      <td>...</td>\n      <td>-3</td>\n      <td>-1</td>\n      <td>1</td>\n      <td>0</td>\n      <td>0</td>\n      <td>False</td>\n      <td>0</td>\n      <td>0.398451</td>\n      <td>-1.233521</td>\n      <td>1.567341</td>\n    </tr>\n    <tr>\n      <th>2</th>\n      <td>2291479052128</td>\n      <td>warm</td>\n      <td>True</td>\n      <td>left</td>\n      <td>2019-02-14 14:46:53 752382</td>\n      <td>-0.514465</td>\n      <td>-0.485779</td>\n      <td>0.287659</td>\n      <td>-0.645508</td>\n      <td>1.326660</td>\n      <td>...</td>\n      <td>0</td>\n      <td>-1</td>\n      <td>-2</td>\n      <td>1</td>\n      <td>-1</td>\n      <td>False</td>\n      <td>0</td>\n      <td>0.398451</td>\n      <td>-1.233521</td>\n      <td>1.567341</td>\n    </tr>\n    <tr>\n      <th>3</th>\n      <td>2291479052128</td>\n      <td>warm</td>\n      <td>True</td>\n      <td>left</td>\n      <td>2019-02-14 14:46:53 752382</td>\n      <td>-0.514465</td>\n      <td>-0.485779</td>\n      <td>0.287659</td>\n      <td>-0.645508</td>\n      <td>1.326660</td>\n      <td>...</td>\n      <td>0</td>\n      <td>0</td>\n      <td>-1</td>\n      <td>-2</td>\n      <td>-1</td>\n      <td>False</td>\n      <td>0</td>\n      <td>0.398451</td>\n      <td>-1.233521</td>\n      <td>1.567341</td>\n    </tr>\n    <tr>\n      <th>4</th>\n      <td>2291479052128</td>\n      <td>warm</td>\n      <td>True</td>\n      <td>left</td>\n      <td>2019-02-14 14:46:53 756350</td>\n      <td>-0.519470</td>\n      <td>-0.484497</td>\n      <td>0.291138</td>\n      <td>-0.640930</td>\n      <td>1.186035</td>\n      <td>...</td>\n      <td>0</td>\n      <td>2</td>\n      <td>-1</td>\n      <td>1</td>\n      <td>1</td>\n      <td>False</td>\n      <td>0</td>\n      <td>0.420894</td>\n      <td>-1.246889</td>\n      <td>1.542884</td>\n    </tr>\n    <tr>\n      <th>...</th>\n      <td>...</td>\n      <td>...</td>\n      <td>...</td>\n      <td>...</td>\n      <td>...</td>\n      <td>...</td>\n      <td>...</td>\n      <td>...</td>\n      <td>...</td>\n      <td>...</td>\n      <td>...</td>\n      <td>...</td>\n      <td>...</td>\n      <td>...</td>\n      <td>...</td>\n      <td>...</td>\n      <td>...</td>\n      <td>...</td>\n      <td>...</td>\n      <td>...</td>\n      <td>...</td>\n    </tr>\n    <tr>\n      <th>1555959</th>\n      <td>2291479052128</td>\n      <td>warm</td>\n      <td>True</td>\n      <td>left</td>\n      <td>2019-02-14 16:13:28 749540</td>\n      <td>-0.416260</td>\n      <td>0.036682</td>\n      <td>-0.058777</td>\n      <td>-0.906616</td>\n      <td>0.765625</td>\n      <td>...</td>\n      <td>7</td>\n      <td>-110</td>\n      <td>-117</td>\n      <td>-33</td>\n      <td>-12</td>\n      <td>False</td>\n      <td>0</td>\n      <td>0.117068</td>\n      <td>-0.861911</td>\n      <td>-3.114586</td>\n    </tr>\n    <tr>\n      <th>1555962</th>\n      <td>2291479052128</td>\n      <td>warm</td>\n      <td>True</td>\n      <td>left</td>\n      <td>2019-02-14 16:13:28 758516</td>\n      <td>-0.413208</td>\n      <td>0.032410</td>\n      <td>-0.063416</td>\n      <td>-0.907898</td>\n      <td>0.768066</td>\n      <td>...</td>\n      <td>-3</td>\n      <td>-118</td>\n      <td>-114</td>\n      <td>-28</td>\n      <td>-2</td>\n      <td>False</td>\n      <td>0</td>\n      <td>0.135021</td>\n      <td>-0.854758</td>\n      <td>-3.131782</td>\n    </tr>\n    <tr>\n      <th>1555963</th>\n      <td>2291479052128</td>\n      <td>warm</td>\n      <td>True</td>\n      <td>left</td>\n      <td>2019-02-14 16:13:28 758516</td>\n      <td>-0.413208</td>\n      <td>0.032410</td>\n      <td>-0.063416</td>\n      <td>-0.907898</td>\n      <td>0.768066</td>\n      <td>...</td>\n      <td>-1</td>\n      <td>-82</td>\n      <td>-128</td>\n      <td>-16</td>\n      <td>-2</td>\n      <td>False</td>\n      <td>0</td>\n      <td>0.135021</td>\n      <td>-0.854758</td>\n      <td>-3.131782</td>\n    </tr>\n    <tr>\n      <th>1555966</th>\n      <td>2291479052128</td>\n      <td>warm</td>\n      <td>True</td>\n      <td>left</td>\n      <td>2019-02-14 16:13:28 764500</td>\n      <td>-0.413208</td>\n      <td>0.032410</td>\n      <td>-0.063416</td>\n      <td>-0.907898</td>\n      <td>0.768066</td>\n      <td>...</td>\n      <td>12</td>\n      <td>-104</td>\n      <td>-119</td>\n      <td>-13</td>\n      <td>-1</td>\n      <td>False</td>\n      <td>0</td>\n      <td>0.135021</td>\n      <td>-0.854758</td>\n      <td>-3.131782</td>\n    </tr>\n    <tr>\n      <th>1555967</th>\n      <td>2291479052128</td>\n      <td>warm</td>\n      <td>True</td>\n      <td>left</td>\n      <td>2019-02-14 16:13:28 764500</td>\n      <td>-0.413208</td>\n      <td>0.032410</td>\n      <td>-0.063416</td>\n      <td>-0.907898</td>\n      <td>0.768066</td>\n      <td>...</td>\n      <td>-4</td>\n      <td>-92</td>\n      <td>-127</td>\n      <td>1</td>\n      <td>5</td>\n      <td>False</td>\n      <td>0</td>\n      <td>0.135021</td>\n      <td>-0.854758</td>\n      <td>-3.131782</td>\n    </tr>\n  </tbody>\n</table>\n<p>1405884 rows × 29 columns</p>\n</div>"
     },
     "metadata": {},
     "output_type": "display_data"
    }
   ],
   "source": [
    "# Lets read in our data\n",
    "import os\n",
    "directory = 'Data/'\n",
    "path = 'p18_emg.csv'\n",
    "myo_df = pd.read_csv(directory + path)\n",
    "myo_df.columns = myo_df.columns.str.replace(' ', '')\n",
    "myo_df = myo_df.groupby('Arm').get_group('left') # This only needs to be done if you have two Myos running at the same time\n",
    "display(myo_df)"
   ]
  },
  {
   "cell_type": "markdown",
   "metadata": {},
   "source": [
    "## Plot EMG and IMU Channels"
   ]
  },
  {
   "cell_type": "code",
   "execution_count": 4,
   "metadata": {
    "ExecuteTime": {
     "end_time": "2025-04-19T08:00:50.018055Z",
     "start_time": "2025-04-19T08:00:44.244943Z"
    }
   },
   "outputs": [],
   "source": [
    "''' Plot Entire EMG signals'''\n",
    "for channel in range(1,9):\n",
    "    plt.figure()\n",
    "    ax = myo_df['EMG_' + str(channel)].plot()\n",
    "    plt.title('EMG_' + str(channel))\n",
    "    plt.ylabel('mVolts')\n",
    "    plt.xlabel('Time')\n",
    "\n",
    "for channel in ['X', 'Y', 'Z']:\n",
    "    plt.figure()\n",
    "    myo_df['Acc_' + channel].plot()\n",
    "    plt.title('Acc_' + str(channel))\n",
    "    plt.ylabel('g')\n",
    "    plt.xlabel('Time')"
   ]
  },
  {
   "cell_type": "markdown",
   "metadata": {},
   "source": [
    "## Get Descripitive Statistics for Raw Data"
   ]
  },
  {
   "cell_type": "code",
   "execution_count": 5,
   "metadata": {
    "ExecuteTime": {
     "end_time": "2025-04-19T08:00:50.063335Z",
     "start_time": "2025-04-19T08:00:49.362577Z"
    }
   },
   "outputs": [
    {
     "data": {
      "text/plain": "           DeviceID  Orientation_W  Orientation_X  Orientation_Y  \\\ncount  1.405884e+06   1.405884e+06   1.405884e+06   1.405884e+06   \nmean   2.291479e+12   5.829820e-02  -1.416711e-01   4.756671e-02   \nstd    1.109392e+02   3.596622e-01   6.225795e-01   3.632931e-01   \nmin    2.291479e+12  -7.495117e-01  -9.933472e-01  -8.003540e-01   \n25%    2.291479e+12  -2.727051e-01  -7.298584e-01  -2.425537e-01   \n50%    2.291479e+12   1.106567e-01  -2.828979e-01   9.576416e-02   \n75%    2.291479e+12   3.458252e-01   4.904785e-01   3.248901e-01   \nmax    2.291479e+12   7.894287e-01   9.920654e-01   7.677612e-01   \n\n       Orientation_Z         Acc_X         Acc_Y         Acc_Z        Gyro_X  \\\ncount   1.405884e+06  1.405884e+06  1.405884e+06  1.405884e+06  1.405884e+06   \nmean    7.029249e-02  7.194029e-01  2.172123e-02  4.590001e-01  4.715409e-01   \nstd     5.660227e-01  3.237783e-01  3.134963e-01  2.499457e-01  3.317542e+01   \nmin    -9.848633e-01 -1.368164e+00 -2.659668e+00 -1.334473e+00 -4.955625e+02   \n25%    -4.491577e-01  5.043945e-01 -1.855469e-01  2.695312e-01 -6.375000e+00   \n50%     9.210205e-02  9.023438e-01  4.101562e-02  3.520508e-01  1.875000e-01   \n75%     6.166992e-01  9.409180e-01  1.313477e-01  7.158203e-01  6.750000e+00   \nmax     9.845581e-01  2.842773e+00  1.588867e+00  1.886230e+00  5.243125e+02   \n\n             Gyro_Y  ...         EMG_3         EMG_4         EMG_5  \\\ncount  1.405884e+06  ...  1.405884e+06  1.405884e+06  1.405884e+06   \nmean   2.128901e-02  ... -8.544162e-01 -7.970885e-01 -8.382363e-01   \nstd    2.453375e+01  ...  1.196934e+01  7.937094e+00  1.137876e+01   \nmin   -5.199375e+02  ... -1.280000e+02 -1.280000e+02 -1.280000e+02   \n25%   -3.437500e+00  ... -3.000000e+00 -3.000000e+00 -3.000000e+00   \n50%    0.000000e+00  ... -1.000000e+00 -1.000000e+00 -1.000000e+00   \n75%    3.437500e+00  ...  1.000000e+00  2.000000e+00  2.000000e+00   \nmax    4.203125e+02  ...  1.270000e+02  1.270000e+02  1.270000e+02   \n\n              EMG_6         EMG_7         EMG_8       RSSI          Roll  \\\ncount  1.405884e+06  1.405884e+06  1.405884e+06  1405884.0  1.405884e+06   \nmean  -1.035961e+00 -7.810957e-01 -7.580533e-01        0.0  9.882653e-02   \nstd    1.678093e+01  9.360004e+00  1.066679e+01        0.0  4.923939e-01   \nmin   -1.280000e+02 -1.280000e+02 -1.280000e+02        0.0 -3.140510e+00   \n25%   -4.000000e+00 -3.000000e+00 -3.000000e+00        0.0 -2.744367e-01   \n50%   -1.000000e+00 -1.000000e+00 -1.000000e+00        0.0  1.528443e-01   \n75%    2.000000e+00  2.000000e+00  1.000000e+00        0.0  4.110263e-01   \nmax    1.270000e+02  1.270000e+02  1.270000e+02        0.0  3.139911e+00   \n\n              Pitch           Yaw  \ncount  1.405884e+06  1.405884e+06  \nmean  -9.217510e-01  6.220871e-03  \nstd    4.655549e-01  1.682120e+00  \nmin   -1.570796e+00 -3.141558e+00  \n25%   -1.277161e+00 -1.384925e+00  \n50%   -1.194552e+00  1.360732e-01  \n75%   -5.247361e-01  1.339452e+00  \nmax    1.480952e+00  3.141591e+00  \n\n[8 rows x 23 columns]",
      "text/html": "<div>\n<style scoped>\n    .dataframe tbody tr th:only-of-type {\n        vertical-align: middle;\n    }\n\n    .dataframe tbody tr th {\n        vertical-align: top;\n    }\n\n    .dataframe thead th {\n        text-align: right;\n    }\n</style>\n<table border=\"1\" class=\"dataframe\">\n  <thead>\n    <tr style=\"text-align: right;\">\n      <th></th>\n      <th>DeviceID</th>\n      <th>Orientation_W</th>\n      <th>Orientation_X</th>\n      <th>Orientation_Y</th>\n      <th>Orientation_Z</th>\n      <th>Acc_X</th>\n      <th>Acc_Y</th>\n      <th>Acc_Z</th>\n      <th>Gyro_X</th>\n      <th>Gyro_Y</th>\n      <th>...</th>\n      <th>EMG_3</th>\n      <th>EMG_4</th>\n      <th>EMG_5</th>\n      <th>EMG_6</th>\n      <th>EMG_7</th>\n      <th>EMG_8</th>\n      <th>RSSI</th>\n      <th>Roll</th>\n      <th>Pitch</th>\n      <th>Yaw</th>\n    </tr>\n  </thead>\n  <tbody>\n    <tr>\n      <th>count</th>\n      <td>1.405884e+06</td>\n      <td>1.405884e+06</td>\n      <td>1.405884e+06</td>\n      <td>1.405884e+06</td>\n      <td>1.405884e+06</td>\n      <td>1.405884e+06</td>\n      <td>1.405884e+06</td>\n      <td>1.405884e+06</td>\n      <td>1.405884e+06</td>\n      <td>1.405884e+06</td>\n      <td>...</td>\n      <td>1.405884e+06</td>\n      <td>1.405884e+06</td>\n      <td>1.405884e+06</td>\n      <td>1.405884e+06</td>\n      <td>1.405884e+06</td>\n      <td>1.405884e+06</td>\n      <td>1405884.0</td>\n      <td>1.405884e+06</td>\n      <td>1.405884e+06</td>\n      <td>1.405884e+06</td>\n    </tr>\n    <tr>\n      <th>mean</th>\n      <td>2.291479e+12</td>\n      <td>5.829820e-02</td>\n      <td>-1.416711e-01</td>\n      <td>4.756671e-02</td>\n      <td>7.029249e-02</td>\n      <td>7.194029e-01</td>\n      <td>2.172123e-02</td>\n      <td>4.590001e-01</td>\n      <td>4.715409e-01</td>\n      <td>2.128901e-02</td>\n      <td>...</td>\n      <td>-8.544162e-01</td>\n      <td>-7.970885e-01</td>\n      <td>-8.382363e-01</td>\n      <td>-1.035961e+00</td>\n      <td>-7.810957e-01</td>\n      <td>-7.580533e-01</td>\n      <td>0.0</td>\n      <td>9.882653e-02</td>\n      <td>-9.217510e-01</td>\n      <td>6.220871e-03</td>\n    </tr>\n    <tr>\n      <th>std</th>\n      <td>1.109392e+02</td>\n      <td>3.596622e-01</td>\n      <td>6.225795e-01</td>\n      <td>3.632931e-01</td>\n      <td>5.660227e-01</td>\n      <td>3.237783e-01</td>\n      <td>3.134963e-01</td>\n      <td>2.499457e-01</td>\n      <td>3.317542e+01</td>\n      <td>2.453375e+01</td>\n      <td>...</td>\n      <td>1.196934e+01</td>\n      <td>7.937094e+00</td>\n      <td>1.137876e+01</td>\n      <td>1.678093e+01</td>\n      <td>9.360004e+00</td>\n      <td>1.066679e+01</td>\n      <td>0.0</td>\n      <td>4.923939e-01</td>\n      <td>4.655549e-01</td>\n      <td>1.682120e+00</td>\n    </tr>\n    <tr>\n      <th>min</th>\n      <td>2.291479e+12</td>\n      <td>-7.495117e-01</td>\n      <td>-9.933472e-01</td>\n      <td>-8.003540e-01</td>\n      <td>-9.848633e-01</td>\n      <td>-1.368164e+00</td>\n      <td>-2.659668e+00</td>\n      <td>-1.334473e+00</td>\n      <td>-4.955625e+02</td>\n      <td>-5.199375e+02</td>\n      <td>...</td>\n      <td>-1.280000e+02</td>\n      <td>-1.280000e+02</td>\n      <td>-1.280000e+02</td>\n      <td>-1.280000e+02</td>\n      <td>-1.280000e+02</td>\n      <td>-1.280000e+02</td>\n      <td>0.0</td>\n      <td>-3.140510e+00</td>\n      <td>-1.570796e+00</td>\n      <td>-3.141558e+00</td>\n    </tr>\n    <tr>\n      <th>25%</th>\n      <td>2.291479e+12</td>\n      <td>-2.727051e-01</td>\n      <td>-7.298584e-01</td>\n      <td>-2.425537e-01</td>\n      <td>-4.491577e-01</td>\n      <td>5.043945e-01</td>\n      <td>-1.855469e-01</td>\n      <td>2.695312e-01</td>\n      <td>-6.375000e+00</td>\n      <td>-3.437500e+00</td>\n      <td>...</td>\n      <td>-3.000000e+00</td>\n      <td>-3.000000e+00</td>\n      <td>-3.000000e+00</td>\n      <td>-4.000000e+00</td>\n      <td>-3.000000e+00</td>\n      <td>-3.000000e+00</td>\n      <td>0.0</td>\n      <td>-2.744367e-01</td>\n      <td>-1.277161e+00</td>\n      <td>-1.384925e+00</td>\n    </tr>\n    <tr>\n      <th>50%</th>\n      <td>2.291479e+12</td>\n      <td>1.106567e-01</td>\n      <td>-2.828979e-01</td>\n      <td>9.576416e-02</td>\n      <td>9.210205e-02</td>\n      <td>9.023438e-01</td>\n      <td>4.101562e-02</td>\n      <td>3.520508e-01</td>\n      <td>1.875000e-01</td>\n      <td>0.000000e+00</td>\n      <td>...</td>\n      <td>-1.000000e+00</td>\n      <td>-1.000000e+00</td>\n      <td>-1.000000e+00</td>\n      <td>-1.000000e+00</td>\n      <td>-1.000000e+00</td>\n      <td>-1.000000e+00</td>\n      <td>0.0</td>\n      <td>1.528443e-01</td>\n      <td>-1.194552e+00</td>\n      <td>1.360732e-01</td>\n    </tr>\n    <tr>\n      <th>75%</th>\n      <td>2.291479e+12</td>\n      <td>3.458252e-01</td>\n      <td>4.904785e-01</td>\n      <td>3.248901e-01</td>\n      <td>6.166992e-01</td>\n      <td>9.409180e-01</td>\n      <td>1.313477e-01</td>\n      <td>7.158203e-01</td>\n      <td>6.750000e+00</td>\n      <td>3.437500e+00</td>\n      <td>...</td>\n      <td>1.000000e+00</td>\n      <td>2.000000e+00</td>\n      <td>2.000000e+00</td>\n      <td>2.000000e+00</td>\n      <td>2.000000e+00</td>\n      <td>1.000000e+00</td>\n      <td>0.0</td>\n      <td>4.110263e-01</td>\n      <td>-5.247361e-01</td>\n      <td>1.339452e+00</td>\n    </tr>\n    <tr>\n      <th>max</th>\n      <td>2.291479e+12</td>\n      <td>7.894287e-01</td>\n      <td>9.920654e-01</td>\n      <td>7.677612e-01</td>\n      <td>9.845581e-01</td>\n      <td>2.842773e+00</td>\n      <td>1.588867e+00</td>\n      <td>1.886230e+00</td>\n      <td>5.243125e+02</td>\n      <td>4.203125e+02</td>\n      <td>...</td>\n      <td>1.270000e+02</td>\n      <td>1.270000e+02</td>\n      <td>1.270000e+02</td>\n      <td>1.270000e+02</td>\n      <td>1.270000e+02</td>\n      <td>1.270000e+02</td>\n      <td>0.0</td>\n      <td>3.139911e+00</td>\n      <td>1.480952e+00</td>\n      <td>3.141591e+00</td>\n    </tr>\n  </tbody>\n</table>\n<p>8 rows × 23 columns</p>\n</div>"
     },
     "execution_count": 5,
     "metadata": {},
     "output_type": "execute_result"
    }
   ],
   "source": [
    "myo_df.describe()"
   ]
  },
  {
   "cell_type": "markdown",
   "metadata": {},
   "source": [
    "## Rectify the Signal"
   ]
  },
  {
   "cell_type": "code",
   "execution_count": 6,
   "metadata": {
    "scrolled": true,
    "ExecuteTime": {
     "end_time": "2025-04-19T08:00:52.274306Z",
     "start_time": "2025-04-19T08:00:50.065097Z"
    }
   },
   "outputs": [
    {
     "data": {
      "text/plain": "              DeviceID Warm?  Sync   Arm                   Timestamp  \\\n0        2291479052128  warm  True  left  2019-02-14 14:46:53 744402   \n1        2291479052128  warm  True  left  2019-02-14 14:46:53 744402   \n2        2291479052128  warm  True  left  2019-02-14 14:46:53 752382   \n3        2291479052128  warm  True  left  2019-02-14 14:46:53 752382   \n4        2291479052128  warm  True  left  2019-02-14 14:46:53 756350   \n...                ...   ...   ...   ...                         ...   \n1555959  2291479052128  warm  True  left  2019-02-14 16:13:28 749540   \n1555962  2291479052128  warm  True  left  2019-02-14 16:13:28 758516   \n1555963  2291479052128  warm  True  left  2019-02-14 16:13:28 758516   \n1555966  2291479052128  warm  True  left  2019-02-14 16:13:28 764500   \n1555967  2291479052128  warm  True  left  2019-02-14 16:13:28 764500   \n\n         Orientation_W  Orientation_X  Orientation_Y  Orientation_Z     Acc_X  \\\n0            -0.514465      -0.485779       0.287659      -0.645508  1.326660   \n1            -0.514465      -0.485779       0.287659      -0.645508  1.326660   \n2            -0.514465      -0.485779       0.287659      -0.645508  1.326660   \n3            -0.514465      -0.485779       0.287659      -0.645508  1.326660   \n4            -0.519470      -0.484497       0.291138      -0.640930  1.186035   \n...                ...            ...            ...            ...       ...   \n1555959      -0.416260       0.036682      -0.058777      -0.906616  0.765625   \n1555962      -0.413208       0.032410      -0.063416      -0.907898  0.768066   \n1555963      -0.413208       0.032410      -0.063416      -0.907898  0.768066   \n1555966      -0.413208       0.032410      -0.063416      -0.907898  0.768066   \n1555967      -0.413208       0.032410      -0.063416      -0.907898  0.768066   \n\n         ...  EMG_4  EMG_5  EMG_6  EMG_7  EMG_8 Locked  RSSI      Roll  \\\n0        ...      2      1      1      1      1  False     0  0.398451   \n1        ...      3      1      1      0      0  False     0  0.398451   \n2        ...      0      1      2      1      1  False     0  0.398451   \n3        ...      0      0      1      2      1  False     0  0.398451   \n4        ...      0      2      1      1      1  False     0  0.420894   \n...      ...    ...    ...    ...    ...    ...    ...   ...       ...   \n1555959  ...      7    110    117     33     12  False     0  0.117068   \n1555962  ...      3    118    114     28      2  False     0  0.135021   \n1555963  ...      1     82    128     16      2  False     0  0.135021   \n1555966  ...     12    104    119     13      1  False     0  0.135021   \n1555967  ...      4     92    127      1      5  False     0  0.135021   \n\n            Pitch       Yaw  \n0       -1.233521  1.567341  \n1       -1.233521  1.567341  \n2       -1.233521  1.567341  \n3       -1.233521  1.567341  \n4       -1.246889  1.542884  \n...           ...       ...  \n1555959 -0.861911 -3.114586  \n1555962 -0.854758 -3.131782  \n1555963 -0.854758 -3.131782  \n1555966 -0.854758 -3.131782  \n1555967 -0.854758 -3.131782  \n\n[1405884 rows x 29 columns]",
      "text/html": "<div>\n<style scoped>\n    .dataframe tbody tr th:only-of-type {\n        vertical-align: middle;\n    }\n\n    .dataframe tbody tr th {\n        vertical-align: top;\n    }\n\n    .dataframe thead th {\n        text-align: right;\n    }\n</style>\n<table border=\"1\" class=\"dataframe\">\n  <thead>\n    <tr style=\"text-align: right;\">\n      <th></th>\n      <th>DeviceID</th>\n      <th>Warm?</th>\n      <th>Sync</th>\n      <th>Arm</th>\n      <th>Timestamp</th>\n      <th>Orientation_W</th>\n      <th>Orientation_X</th>\n      <th>Orientation_Y</th>\n      <th>Orientation_Z</th>\n      <th>Acc_X</th>\n      <th>...</th>\n      <th>EMG_4</th>\n      <th>EMG_5</th>\n      <th>EMG_6</th>\n      <th>EMG_7</th>\n      <th>EMG_8</th>\n      <th>Locked</th>\n      <th>RSSI</th>\n      <th>Roll</th>\n      <th>Pitch</th>\n      <th>Yaw</th>\n    </tr>\n  </thead>\n  <tbody>\n    <tr>\n      <th>0</th>\n      <td>2291479052128</td>\n      <td>warm</td>\n      <td>True</td>\n      <td>left</td>\n      <td>2019-02-14 14:46:53 744402</td>\n      <td>-0.514465</td>\n      <td>-0.485779</td>\n      <td>0.287659</td>\n      <td>-0.645508</td>\n      <td>1.326660</td>\n      <td>...</td>\n      <td>2</td>\n      <td>1</td>\n      <td>1</td>\n      <td>1</td>\n      <td>1</td>\n      <td>False</td>\n      <td>0</td>\n      <td>0.398451</td>\n      <td>-1.233521</td>\n      <td>1.567341</td>\n    </tr>\n    <tr>\n      <th>1</th>\n      <td>2291479052128</td>\n      <td>warm</td>\n      <td>True</td>\n      <td>left</td>\n      <td>2019-02-14 14:46:53 744402</td>\n      <td>-0.514465</td>\n      <td>-0.485779</td>\n      <td>0.287659</td>\n      <td>-0.645508</td>\n      <td>1.326660</td>\n      <td>...</td>\n      <td>3</td>\n      <td>1</td>\n      <td>1</td>\n      <td>0</td>\n      <td>0</td>\n      <td>False</td>\n      <td>0</td>\n      <td>0.398451</td>\n      <td>-1.233521</td>\n      <td>1.567341</td>\n    </tr>\n    <tr>\n      <th>2</th>\n      <td>2291479052128</td>\n      <td>warm</td>\n      <td>True</td>\n      <td>left</td>\n      <td>2019-02-14 14:46:53 752382</td>\n      <td>-0.514465</td>\n      <td>-0.485779</td>\n      <td>0.287659</td>\n      <td>-0.645508</td>\n      <td>1.326660</td>\n      <td>...</td>\n      <td>0</td>\n      <td>1</td>\n      <td>2</td>\n      <td>1</td>\n      <td>1</td>\n      <td>False</td>\n      <td>0</td>\n      <td>0.398451</td>\n      <td>-1.233521</td>\n      <td>1.567341</td>\n    </tr>\n    <tr>\n      <th>3</th>\n      <td>2291479052128</td>\n      <td>warm</td>\n      <td>True</td>\n      <td>left</td>\n      <td>2019-02-14 14:46:53 752382</td>\n      <td>-0.514465</td>\n      <td>-0.485779</td>\n      <td>0.287659</td>\n      <td>-0.645508</td>\n      <td>1.326660</td>\n      <td>...</td>\n      <td>0</td>\n      <td>0</td>\n      <td>1</td>\n      <td>2</td>\n      <td>1</td>\n      <td>False</td>\n      <td>0</td>\n      <td>0.398451</td>\n      <td>-1.233521</td>\n      <td>1.567341</td>\n    </tr>\n    <tr>\n      <th>4</th>\n      <td>2291479052128</td>\n      <td>warm</td>\n      <td>True</td>\n      <td>left</td>\n      <td>2019-02-14 14:46:53 756350</td>\n      <td>-0.519470</td>\n      <td>-0.484497</td>\n      <td>0.291138</td>\n      <td>-0.640930</td>\n      <td>1.186035</td>\n      <td>...</td>\n      <td>0</td>\n      <td>2</td>\n      <td>1</td>\n      <td>1</td>\n      <td>1</td>\n      <td>False</td>\n      <td>0</td>\n      <td>0.420894</td>\n      <td>-1.246889</td>\n      <td>1.542884</td>\n    </tr>\n    <tr>\n      <th>...</th>\n      <td>...</td>\n      <td>...</td>\n      <td>...</td>\n      <td>...</td>\n      <td>...</td>\n      <td>...</td>\n      <td>...</td>\n      <td>...</td>\n      <td>...</td>\n      <td>...</td>\n      <td>...</td>\n      <td>...</td>\n      <td>...</td>\n      <td>...</td>\n      <td>...</td>\n      <td>...</td>\n      <td>...</td>\n      <td>...</td>\n      <td>...</td>\n      <td>...</td>\n      <td>...</td>\n    </tr>\n    <tr>\n      <th>1555959</th>\n      <td>2291479052128</td>\n      <td>warm</td>\n      <td>True</td>\n      <td>left</td>\n      <td>2019-02-14 16:13:28 749540</td>\n      <td>-0.416260</td>\n      <td>0.036682</td>\n      <td>-0.058777</td>\n      <td>-0.906616</td>\n      <td>0.765625</td>\n      <td>...</td>\n      <td>7</td>\n      <td>110</td>\n      <td>117</td>\n      <td>33</td>\n      <td>12</td>\n      <td>False</td>\n      <td>0</td>\n      <td>0.117068</td>\n      <td>-0.861911</td>\n      <td>-3.114586</td>\n    </tr>\n    <tr>\n      <th>1555962</th>\n      <td>2291479052128</td>\n      <td>warm</td>\n      <td>True</td>\n      <td>left</td>\n      <td>2019-02-14 16:13:28 758516</td>\n      <td>-0.413208</td>\n      <td>0.032410</td>\n      <td>-0.063416</td>\n      <td>-0.907898</td>\n      <td>0.768066</td>\n      <td>...</td>\n      <td>3</td>\n      <td>118</td>\n      <td>114</td>\n      <td>28</td>\n      <td>2</td>\n      <td>False</td>\n      <td>0</td>\n      <td>0.135021</td>\n      <td>-0.854758</td>\n      <td>-3.131782</td>\n    </tr>\n    <tr>\n      <th>1555963</th>\n      <td>2291479052128</td>\n      <td>warm</td>\n      <td>True</td>\n      <td>left</td>\n      <td>2019-02-14 16:13:28 758516</td>\n      <td>-0.413208</td>\n      <td>0.032410</td>\n      <td>-0.063416</td>\n      <td>-0.907898</td>\n      <td>0.768066</td>\n      <td>...</td>\n      <td>1</td>\n      <td>82</td>\n      <td>128</td>\n      <td>16</td>\n      <td>2</td>\n      <td>False</td>\n      <td>0</td>\n      <td>0.135021</td>\n      <td>-0.854758</td>\n      <td>-3.131782</td>\n    </tr>\n    <tr>\n      <th>1555966</th>\n      <td>2291479052128</td>\n      <td>warm</td>\n      <td>True</td>\n      <td>left</td>\n      <td>2019-02-14 16:13:28 764500</td>\n      <td>-0.413208</td>\n      <td>0.032410</td>\n      <td>-0.063416</td>\n      <td>-0.907898</td>\n      <td>0.768066</td>\n      <td>...</td>\n      <td>12</td>\n      <td>104</td>\n      <td>119</td>\n      <td>13</td>\n      <td>1</td>\n      <td>False</td>\n      <td>0</td>\n      <td>0.135021</td>\n      <td>-0.854758</td>\n      <td>-3.131782</td>\n    </tr>\n    <tr>\n      <th>1555967</th>\n      <td>2291479052128</td>\n      <td>warm</td>\n      <td>True</td>\n      <td>left</td>\n      <td>2019-02-14 16:13:28 764500</td>\n      <td>-0.413208</td>\n      <td>0.032410</td>\n      <td>-0.063416</td>\n      <td>-0.907898</td>\n      <td>0.768066</td>\n      <td>...</td>\n      <td>4</td>\n      <td>92</td>\n      <td>127</td>\n      <td>1</td>\n      <td>5</td>\n      <td>False</td>\n      <td>0</td>\n      <td>0.135021</td>\n      <td>-0.854758</td>\n      <td>-3.131782</td>\n    </tr>\n  </tbody>\n</table>\n<p>1405884 rows × 29 columns</p>\n</div>"
     },
     "metadata": {},
     "output_type": "display_data"
    }
   ],
   "source": [
    "rectified_df =myo_df.copy() # make copy of DF\n",
    "\n",
    "for col in ['EMG_' + str(i) for i in range(1, 9)]:\n",
    "    rectified_df[col] = rectified_df[col].apply(abs) # applys the absolute function to each channel\n",
    "    \n",
    "display(rectified_df)"
   ]
  },
  {
   "cell_type": "markdown",
   "metadata": {},
   "source": [
    "### Plot the Rectified Signals and Look at the new Means/Stdevs for each EMG Channel"
   ]
  },
  {
   "cell_type": "code",
   "execution_count": 7,
   "metadata": {
    "ExecuteTime": {
     "end_time": "2025-04-19T08:00:52.377839Z",
     "start_time": "2025-04-19T08:00:52.276650Z"
    }
   },
   "outputs": [
    {
     "data": {
      "text/plain": "'Stop Coding Here'"
     },
     "execution_count": 7,
     "metadata": {},
     "output_type": "execute_result"
    }
   ],
   "source": [
    "'''Your Code Here'''\n",
    "plt.figure(figsize=(15, 10))\n",
    "\n",
    "for i in range(1, 9):\n",
    "    col = 'EMG_' + str(i)\n",
    "    plt.plot(rectified_df[col][:1000], label=col)  # First 1000 samples for visibility\n",
    "\n",
    "plt.title(\"Rectified EMG Signals (First 1000 Samples)\")\n",
    "plt.xlabel(\"Sample\")\n",
    "plt.ylabel(\"Amplitude (Abs EMG)\")\n",
    "plt.legend()\n",
    "plt.grid(True)\n",
    "plt.show()\n",
    "'''Stop Coding Here'''"
   ]
  },
  {
   "cell_type": "markdown",
   "metadata": {},
   "source": [
    "### Apply a rolling average with a window size of 400 (2 seconds) and look at the new plots\n",
    "Look into Pandas rolling method (e.g, myo_df.rolling(400).mean())"
   ]
  },
  {
   "cell_type": "code",
   "execution_count": 8,
   "metadata": {
    "ExecuteTime": {
     "end_time": "2025-04-19T08:00:52.687830Z",
     "start_time": "2025-04-19T08:00:52.345799Z"
    }
   },
   "outputs": [
    {
     "data": {
      "text/plain": "'Stop coding here'"
     },
     "execution_count": 8,
     "metadata": {},
     "output_type": "execute_result"
    }
   ],
   "source": [
    "'''Your code here'''\n",
    "rolling_df = rectified_df.copy()\n",
    "\n",
    "for i in range(1, 9):\n",
    "    col = 'EMG_' + str(i)\n",
    "    rolling_df[col] = rectified_df[col].rolling(window=400).mean()\n",
    "\n",
    "# Plot the smoothed signals (first 2000 samples)\n",
    "import matplotlib.pyplot as plt\n",
    "\n",
    "plt.figure(figsize=(15, 10))\n",
    "for i in range(1, 9):\n",
    "    col = 'EMG_' + str(i)\n",
    "    plt.plot(rolling_df[col][:2000], label=col)\n",
    "\n",
    "plt.title(\"Smoothed EMG Signals with 400-sample Rolling Average\")\n",
    "plt.xlabel(\"Sample\")\n",
    "plt.ylabel(\"Amplitude\")\n",
    "plt.legend()\n",
    "plt.grid(True)\n",
    "plt.show()\n",
    "'''Stop coding here'''"
   ]
  },
  {
   "cell_type": "markdown",
   "metadata": {},
   "source": [
    "### Advanced EMG Filtering\n",
    "Now, we are going to apply a bandpass filter to each EMG channel."
   ]
  },
  {
   "cell_type": "code",
   "execution_count": 9,
   "metadata": {
    "ExecuteTime": {
     "end_time": "2025-04-19T08:00:53.472022Z",
     "start_time": "2025-04-19T08:00:52.688207Z"
    }
   },
   "outputs": [
    {
     "data": {
      "text/plain": "              DeviceID Warm?  Sync   Arm                   Timestamp  \\\n0        2291479052128  warm  True  left  2019-02-14 14:46:53 744402   \n1        2291479052128  warm  True  left  2019-02-14 14:46:53 744402   \n2        2291479052128  warm  True  left  2019-02-14 14:46:53 752382   \n3        2291479052128  warm  True  left  2019-02-14 14:46:53 752382   \n4        2291479052128  warm  True  left  2019-02-14 14:46:53 756350   \n...                ...   ...   ...   ...                         ...   \n1555959  2291479052128  warm  True  left  2019-02-14 16:13:28 749540   \n1555962  2291479052128  warm  True  left  2019-02-14 16:13:28 758516   \n1555963  2291479052128  warm  True  left  2019-02-14 16:13:28 758516   \n1555966  2291479052128  warm  True  left  2019-02-14 16:13:28 764500   \n1555967  2291479052128  warm  True  left  2019-02-14 16:13:28 764500   \n\n         Orientation_W  Orientation_X  Orientation_Y  Orientation_Z     Acc_X  \\\n0            -0.514465      -0.485779       0.287659      -0.645508  1.326660   \n1            -0.514465      -0.485779       0.287659      -0.645508  1.326660   \n2            -0.514465      -0.485779       0.287659      -0.645508  1.326660   \n3            -0.514465      -0.485779       0.287659      -0.645508  1.326660   \n4            -0.519470      -0.484497       0.291138      -0.640930  1.186035   \n...                ...            ...            ...            ...       ...   \n1555959      -0.416260       0.036682      -0.058777      -0.906616  0.765625   \n1555962      -0.413208       0.032410      -0.063416      -0.907898  0.768066   \n1555963      -0.413208       0.032410      -0.063416      -0.907898  0.768066   \n1555966      -0.413208       0.032410      -0.063416      -0.907898  0.768066   \n1555967      -0.413208       0.032410      -0.063416      -0.907898  0.768066   \n\n         ...         EMG_4         EMG_5         EMG_6         EMG_7  \\\n0        ...  2.272861e-14  3.934620e-15  2.257128e-13  4.746089e-14   \n1        ...  4.286240e-13  8.250328e-14  1.864408e-12  5.246762e-13   \n2        ...  2.811540e-12  5.700397e-13  8.042179e-12  2.751430e-12   \n3        ...  1.093093e-11  2.309576e-12  2.478039e-11  9.587392e-12   \n4        ...  3.096836e-11  6.825007e-12  6.179450e-11  2.596220e-11   \n...      ...           ...           ...           ...           ...   \n1555959  ...  2.817893e+01  3.844822e+01  4.296860e+01  2.827803e+01   \n1555962  ...  2.817668e+01  3.845264e+01  4.297719e+01  2.827670e+01   \n1555963  ...  2.817443e+01  3.845707e+01  4.298578e+01  2.827537e+01   \n1555966  ...  2.817219e+01  3.846151e+01  4.299438e+01  2.827404e+01   \n1555967  ...  2.816995e+01  3.846595e+01  4.300297e+01  2.827272e+01   \n\n                EMG_8 Locked  RSSI      Roll     Pitch       Yaw  \n0        1.901335e-14  False     0  0.398451 -1.233521  1.567341  \n1        3.782821e-13  False     0  0.398451 -1.233521  1.567341  \n2        2.543262e-12  False     0  0.398451 -1.233521  1.567341  \n3        1.007211e-11  False     0  0.398451 -1.233521  1.567341  \n4        2.902281e-11  False     0  0.420894 -1.246889  1.542884  \n...               ...    ...   ...       ...       ...       ...  \n1555959  3.349184e+01  False     0  0.117068 -0.861911 -3.114586  \n1555962  3.349216e+01  False     0  0.135021 -0.854758 -3.131782  \n1555963  3.349249e+01  False     0  0.135021 -0.854758 -3.131782  \n1555966  3.349281e+01  False     0  0.135021 -0.854758 -3.131782  \n1555967  3.349313e+01  False     0  0.135021 -0.854758 -3.131782  \n\n[1405884 rows x 29 columns]",
      "text/html": "<div>\n<style scoped>\n    .dataframe tbody tr th:only-of-type {\n        vertical-align: middle;\n    }\n\n    .dataframe tbody tr th {\n        vertical-align: top;\n    }\n\n    .dataframe thead th {\n        text-align: right;\n    }\n</style>\n<table border=\"1\" class=\"dataframe\">\n  <thead>\n    <tr style=\"text-align: right;\">\n      <th></th>\n      <th>DeviceID</th>\n      <th>Warm?</th>\n      <th>Sync</th>\n      <th>Arm</th>\n      <th>Timestamp</th>\n      <th>Orientation_W</th>\n      <th>Orientation_X</th>\n      <th>Orientation_Y</th>\n      <th>Orientation_Z</th>\n      <th>Acc_X</th>\n      <th>...</th>\n      <th>EMG_4</th>\n      <th>EMG_5</th>\n      <th>EMG_6</th>\n      <th>EMG_7</th>\n      <th>EMG_8</th>\n      <th>Locked</th>\n      <th>RSSI</th>\n      <th>Roll</th>\n      <th>Pitch</th>\n      <th>Yaw</th>\n    </tr>\n  </thead>\n  <tbody>\n    <tr>\n      <th>0</th>\n      <td>2291479052128</td>\n      <td>warm</td>\n      <td>True</td>\n      <td>left</td>\n      <td>2019-02-14 14:46:53 744402</td>\n      <td>-0.514465</td>\n      <td>-0.485779</td>\n      <td>0.287659</td>\n      <td>-0.645508</td>\n      <td>1.326660</td>\n      <td>...</td>\n      <td>2.272861e-14</td>\n      <td>3.934620e-15</td>\n      <td>2.257128e-13</td>\n      <td>4.746089e-14</td>\n      <td>1.901335e-14</td>\n      <td>False</td>\n      <td>0</td>\n      <td>0.398451</td>\n      <td>-1.233521</td>\n      <td>1.567341</td>\n    </tr>\n    <tr>\n      <th>1</th>\n      <td>2291479052128</td>\n      <td>warm</td>\n      <td>True</td>\n      <td>left</td>\n      <td>2019-02-14 14:46:53 744402</td>\n      <td>-0.514465</td>\n      <td>-0.485779</td>\n      <td>0.287659</td>\n      <td>-0.645508</td>\n      <td>1.326660</td>\n      <td>...</td>\n      <td>4.286240e-13</td>\n      <td>8.250328e-14</td>\n      <td>1.864408e-12</td>\n      <td>5.246762e-13</td>\n      <td>3.782821e-13</td>\n      <td>False</td>\n      <td>0</td>\n      <td>0.398451</td>\n      <td>-1.233521</td>\n      <td>1.567341</td>\n    </tr>\n    <tr>\n      <th>2</th>\n      <td>2291479052128</td>\n      <td>warm</td>\n      <td>True</td>\n      <td>left</td>\n      <td>2019-02-14 14:46:53 752382</td>\n      <td>-0.514465</td>\n      <td>-0.485779</td>\n      <td>0.287659</td>\n      <td>-0.645508</td>\n      <td>1.326660</td>\n      <td>...</td>\n      <td>2.811540e-12</td>\n      <td>5.700397e-13</td>\n      <td>8.042179e-12</td>\n      <td>2.751430e-12</td>\n      <td>2.543262e-12</td>\n      <td>False</td>\n      <td>0</td>\n      <td>0.398451</td>\n      <td>-1.233521</td>\n      <td>1.567341</td>\n    </tr>\n    <tr>\n      <th>3</th>\n      <td>2291479052128</td>\n      <td>warm</td>\n      <td>True</td>\n      <td>left</td>\n      <td>2019-02-14 14:46:53 752382</td>\n      <td>-0.514465</td>\n      <td>-0.485779</td>\n      <td>0.287659</td>\n      <td>-0.645508</td>\n      <td>1.326660</td>\n      <td>...</td>\n      <td>1.093093e-11</td>\n      <td>2.309576e-12</td>\n      <td>2.478039e-11</td>\n      <td>9.587392e-12</td>\n      <td>1.007211e-11</td>\n      <td>False</td>\n      <td>0</td>\n      <td>0.398451</td>\n      <td>-1.233521</td>\n      <td>1.567341</td>\n    </tr>\n    <tr>\n      <th>4</th>\n      <td>2291479052128</td>\n      <td>warm</td>\n      <td>True</td>\n      <td>left</td>\n      <td>2019-02-14 14:46:53 756350</td>\n      <td>-0.519470</td>\n      <td>-0.484497</td>\n      <td>0.291138</td>\n      <td>-0.640930</td>\n      <td>1.186035</td>\n      <td>...</td>\n      <td>3.096836e-11</td>\n      <td>6.825007e-12</td>\n      <td>6.179450e-11</td>\n      <td>2.596220e-11</td>\n      <td>2.902281e-11</td>\n      <td>False</td>\n      <td>0</td>\n      <td>0.420894</td>\n      <td>-1.246889</td>\n      <td>1.542884</td>\n    </tr>\n    <tr>\n      <th>...</th>\n      <td>...</td>\n      <td>...</td>\n      <td>...</td>\n      <td>...</td>\n      <td>...</td>\n      <td>...</td>\n      <td>...</td>\n      <td>...</td>\n      <td>...</td>\n      <td>...</td>\n      <td>...</td>\n      <td>...</td>\n      <td>...</td>\n      <td>...</td>\n      <td>...</td>\n      <td>...</td>\n      <td>...</td>\n      <td>...</td>\n      <td>...</td>\n      <td>...</td>\n      <td>...</td>\n    </tr>\n    <tr>\n      <th>1555959</th>\n      <td>2291479052128</td>\n      <td>warm</td>\n      <td>True</td>\n      <td>left</td>\n      <td>2019-02-14 16:13:28 749540</td>\n      <td>-0.416260</td>\n      <td>0.036682</td>\n      <td>-0.058777</td>\n      <td>-0.906616</td>\n      <td>0.765625</td>\n      <td>...</td>\n      <td>2.817893e+01</td>\n      <td>3.844822e+01</td>\n      <td>4.296860e+01</td>\n      <td>2.827803e+01</td>\n      <td>3.349184e+01</td>\n      <td>False</td>\n      <td>0</td>\n      <td>0.117068</td>\n      <td>-0.861911</td>\n      <td>-3.114586</td>\n    </tr>\n    <tr>\n      <th>1555962</th>\n      <td>2291479052128</td>\n      <td>warm</td>\n      <td>True</td>\n      <td>left</td>\n      <td>2019-02-14 16:13:28 758516</td>\n      <td>-0.413208</td>\n      <td>0.032410</td>\n      <td>-0.063416</td>\n      <td>-0.907898</td>\n      <td>0.768066</td>\n      <td>...</td>\n      <td>2.817668e+01</td>\n      <td>3.845264e+01</td>\n      <td>4.297719e+01</td>\n      <td>2.827670e+01</td>\n      <td>3.349216e+01</td>\n      <td>False</td>\n      <td>0</td>\n      <td>0.135021</td>\n      <td>-0.854758</td>\n      <td>-3.131782</td>\n    </tr>\n    <tr>\n      <th>1555963</th>\n      <td>2291479052128</td>\n      <td>warm</td>\n      <td>True</td>\n      <td>left</td>\n      <td>2019-02-14 16:13:28 758516</td>\n      <td>-0.413208</td>\n      <td>0.032410</td>\n      <td>-0.063416</td>\n      <td>-0.907898</td>\n      <td>0.768066</td>\n      <td>...</td>\n      <td>2.817443e+01</td>\n      <td>3.845707e+01</td>\n      <td>4.298578e+01</td>\n      <td>2.827537e+01</td>\n      <td>3.349249e+01</td>\n      <td>False</td>\n      <td>0</td>\n      <td>0.135021</td>\n      <td>-0.854758</td>\n      <td>-3.131782</td>\n    </tr>\n    <tr>\n      <th>1555966</th>\n      <td>2291479052128</td>\n      <td>warm</td>\n      <td>True</td>\n      <td>left</td>\n      <td>2019-02-14 16:13:28 764500</td>\n      <td>-0.413208</td>\n      <td>0.032410</td>\n      <td>-0.063416</td>\n      <td>-0.907898</td>\n      <td>0.768066</td>\n      <td>...</td>\n      <td>2.817219e+01</td>\n      <td>3.846151e+01</td>\n      <td>4.299438e+01</td>\n      <td>2.827404e+01</td>\n      <td>3.349281e+01</td>\n      <td>False</td>\n      <td>0</td>\n      <td>0.135021</td>\n      <td>-0.854758</td>\n      <td>-3.131782</td>\n    </tr>\n    <tr>\n      <th>1555967</th>\n      <td>2291479052128</td>\n      <td>warm</td>\n      <td>True</td>\n      <td>left</td>\n      <td>2019-02-14 16:13:28 764500</td>\n      <td>-0.413208</td>\n      <td>0.032410</td>\n      <td>-0.063416</td>\n      <td>-0.907898</td>\n      <td>0.768066</td>\n      <td>...</td>\n      <td>2.816995e+01</td>\n      <td>3.846595e+01</td>\n      <td>4.300297e+01</td>\n      <td>2.827272e+01</td>\n      <td>3.349313e+01</td>\n      <td>False</td>\n      <td>0</td>\n      <td>0.135021</td>\n      <td>-0.854758</td>\n      <td>-3.131782</td>\n    </tr>\n  </tbody>\n</table>\n<p>1405884 rows × 29 columns</p>\n</div>"
     },
     "metadata": {},
     "output_type": "display_data"
    }
   ],
   "source": [
    "import scipy as sp\n",
    "import scipy.signal\n",
    "\n",
    "def filteremg(emg, low_pass=3, sfreq=200, high_band=20, low_band=95):\n",
    "    \"\"\"\n",
    "    emg: EMG data\n",
    "    high: high-pass cut off frequency\n",
    "    low: low-pass cut off frequency\n",
    "    sfreq: sampling frequency\n",
    "    \"\"\"\n",
    "    # Zero mean emg signal\n",
    "    emg = emg - emg.mean()\n",
    "    \n",
    "    # normalise cut-off frequencies to sampling frequency\n",
    "    high_band = high_band/(sfreq/2)\n",
    "    low_band = low_band/(sfreq/2)\n",
    "    \n",
    "    \n",
    "    # create bandpass filter for EMG\n",
    "    b1, a1 = sp.signal.butter(4, [high_band,low_band], btype='bandpass', analog=True)\n",
    "    \n",
    "    # process EMG signal: filter EMG\n",
    "    emg_filtered = sp.signal.filtfilt(b1, a1, emg)    \n",
    "    \n",
    "    # process EMG signal: rectify\n",
    "    emg_rectified = abs(emg_filtered)\n",
    "    \n",
    "    # create lowpass filter and apply to rectified signal to get EMG envelope\n",
    "    low_pass = low_pass/(sfreq/2)\n",
    "    b2, a2 = sp.signal.butter(4, low_pass, fs=sfreq, btype='lowpass')\n",
    "    emg_envelope = sp.signal.lfilter(b2, a2, emg_rectified)\n",
    "    \n",
    "    return emg_envelope\n",
    "    \n",
    "\n",
    "filt_emg = myo_df.copy()\n",
    "emg_keys = ['EMG_' + str(i) for i in range(1, 9)]\n",
    "filt_emg[emg_keys] = filt_emg[emg_keys].apply(filteremg, raw=True)\n",
    "display(filt_emg)"
   ]
  },
  {
   "cell_type": "markdown",
   "metadata": {},
   "source": [
    "## Plot Filtered Signals and Get Mean/Stdev"
   ]
  },
  {
   "cell_type": "code",
   "execution_count": 10,
   "metadata": {
    "ExecuteTime": {
     "end_time": "2025-04-19T08:00:53.576076Z",
     "start_time": "2025-04-19T08:00:53.475650Z"
    }
   },
   "outputs": [
    {
     "data": {
      "text/plain": "           Mean   Std Dev\nEMG_1  4.671274  2.799111\nEMG_2  5.458053  3.379120\nEMG_3  5.960719  3.415275\nEMG_4  4.607533  2.368714\nEMG_5  6.245650  3.774770\nEMG_6  8.805586  5.346261\nEMG_7  5.321925  3.022640\nEMG_8  5.411960  3.540980",
      "text/html": "<div>\n<style scoped>\n    .dataframe tbody tr th:only-of-type {\n        vertical-align: middle;\n    }\n\n    .dataframe tbody tr th {\n        vertical-align: top;\n    }\n\n    .dataframe thead th {\n        text-align: right;\n    }\n</style>\n<table border=\"1\" class=\"dataframe\">\n  <thead>\n    <tr style=\"text-align: right;\">\n      <th></th>\n      <th>Mean</th>\n      <th>Std Dev</th>\n    </tr>\n  </thead>\n  <tbody>\n    <tr>\n      <th>EMG_1</th>\n      <td>4.671274</td>\n      <td>2.799111</td>\n    </tr>\n    <tr>\n      <th>EMG_2</th>\n      <td>5.458053</td>\n      <td>3.379120</td>\n    </tr>\n    <tr>\n      <th>EMG_3</th>\n      <td>5.960719</td>\n      <td>3.415275</td>\n    </tr>\n    <tr>\n      <th>EMG_4</th>\n      <td>4.607533</td>\n      <td>2.368714</td>\n    </tr>\n    <tr>\n      <th>EMG_5</th>\n      <td>6.245650</td>\n      <td>3.774770</td>\n    </tr>\n    <tr>\n      <th>EMG_6</th>\n      <td>8.805586</td>\n      <td>5.346261</td>\n    </tr>\n    <tr>\n      <th>EMG_7</th>\n      <td>5.321925</td>\n      <td>3.022640</td>\n    </tr>\n    <tr>\n      <th>EMG_8</th>\n      <td>5.411960</td>\n      <td>3.540980</td>\n    </tr>\n  </tbody>\n</table>\n</div>"
     },
     "metadata": {},
     "output_type": "display_data"
    },
    {
     "data": {
      "text/plain": "' Stop coding here'"
     },
     "execution_count": 10,
     "metadata": {},
     "output_type": "execute_result"
    }
   ],
   "source": [
    "''' Your code here'''\n",
    "\n",
    "# Plot the filtered EMG signals (first 2000 samples for clarity)\n",
    "plt.figure(figsize=(15, 10))\n",
    "for i in range(1, 9):\n",
    "    col = 'EMG_' + str(i)\n",
    "    plt.plot(rolling_df[col][:2000], label=col)\n",
    "\n",
    "plt.title(\"Filtered (Smoothed) EMG Signals with Rolling Average\")\n",
    "plt.xlabel(\"Sample\")\n",
    "plt.ylabel(\"Smoothed EMG Amplitude\")\n",
    "plt.legend()\n",
    "plt.grid(True)\n",
    "plt.show()\n",
    "\n",
    "# Compute mean and standard deviation of the filtered signals\n",
    "filtered_stats = {}\n",
    "for i in range(1, 9):\n",
    "    col = 'EMG_' + str(i)\n",
    "    filtered_stats[col] = {\n",
    "        'Mean': rolling_df[col].mean(),\n",
    "        'Std Dev': rolling_df[col].std()\n",
    "    }\n",
    "\n",
    "# Display as a DataFrame\n",
    "filtered_stats_df = pd.DataFrame(filtered_stats).T\n",
    "display(filtered_stats_df)\n",
    "\n",
    "''' Stop coding here'''"
   ]
  },
  {
   "cell_type": "code",
   "execution_count": 10,
   "metadata": {
    "ExecuteTime": {
     "end_time": "2025-04-19T08:00:53.595322Z",
     "start_time": "2025-04-19T08:00:53.575902Z"
    }
   },
   "outputs": [],
   "source": []
  },
  {
   "cell_type": "markdown",
   "metadata": {},
   "source": [
    "## Power Spectral Density\n",
    "Now, we are going to look at a PSF plot"
   ]
  },
  {
   "cell_type": "code",
   "execution_count": 11,
   "metadata": {
    "ExecuteTime": {
     "end_time": "2025-04-19T08:00:53.824822Z",
     "start_time": "2025-04-19T08:00:53.592256Z"
    }
   },
   "outputs": [],
   "source": [
    "f, Pxx_den = sp.signal.periodogram(filt_emg['EMG_1'], 200)\n",
    "plt.semilogy(f, Pxx_den)\n",
    "plt.ylim([1e-7, 1e2])\n",
    "plt.xlabel('frequency [Hz]')\n",
    "plt.ylabel('PSD [V**2/Hz]')\n",
    "plt.show()"
   ]
  },
  {
   "cell_type": "markdown",
   "metadata": {},
   "source": [
    "### Plot the PSD for each filtered EMG channel and Find the Max Power"
   ]
  },
  {
   "cell_type": "code",
   "execution_count": 12,
   "metadata": {
    "ExecuteTime": {
     "end_time": "2025-04-19T08:00:54.516776Z",
     "start_time": "2025-04-19T08:00:53.831381Z"
    }
   },
   "outputs": [
    {
     "data": {
      "text/plain": "       Max PSD Power\nEMG_1    3073.159756\nEMG_2    5191.203512\nEMG_3    6657.768935\nEMG_4    2306.861064\nEMG_5    4154.166559\nEMG_6   10110.031800\nEMG_7    5210.054319\nEMG_8    3364.571493",
      "text/html": "<div>\n<style scoped>\n    .dataframe tbody tr th:only-of-type {\n        vertical-align: middle;\n    }\n\n    .dataframe tbody tr th {\n        vertical-align: top;\n    }\n\n    .dataframe thead th {\n        text-align: right;\n    }\n</style>\n<table border=\"1\" class=\"dataframe\">\n  <thead>\n    <tr style=\"text-align: right;\">\n      <th></th>\n      <th>Max PSD Power</th>\n    </tr>\n  </thead>\n  <tbody>\n    <tr>\n      <th>EMG_1</th>\n      <td>3073.159756</td>\n    </tr>\n    <tr>\n      <th>EMG_2</th>\n      <td>5191.203512</td>\n    </tr>\n    <tr>\n      <th>EMG_3</th>\n      <td>6657.768935</td>\n    </tr>\n    <tr>\n      <th>EMG_4</th>\n      <td>2306.861064</td>\n    </tr>\n    <tr>\n      <th>EMG_5</th>\n      <td>4154.166559</td>\n    </tr>\n    <tr>\n      <th>EMG_6</th>\n      <td>10110.031800</td>\n    </tr>\n    <tr>\n      <th>EMG_7</th>\n      <td>5210.054319</td>\n    </tr>\n    <tr>\n      <th>EMG_8</th>\n      <td>3364.571493</td>\n    </tr>\n  </tbody>\n</table>\n</div>"
     },
     "metadata": {},
     "output_type": "display_data"
    },
    {
     "data": {
      "text/plain": "' Stop Coding Here'"
     },
     "execution_count": 12,
     "metadata": {},
     "output_type": "execute_result"
    }
   ],
   "source": [
    "''' Your Code Here'''\n",
    "from scipy import signal\n",
    "\n",
    "# Dictionary to store max power per EMG channel\n",
    "psd_max_power = {}\n",
    "\n",
    "# Plot PSD for each EMG channel (filtered)\n",
    "plt.figure(figsize=(15, 10))\n",
    "\n",
    "for i in range(1, 9):\n",
    "    col = 'EMG_' + str(i)\n",
    "    \n",
    "    # Compute PSD using scipy.signal.periodogram\n",
    "    f, Pxx_den = signal.periodogram(rolling_df[col].dropna(), fs=200)  # 200 Hz sampling rate\n",
    "    \n",
    "    # Store the maximum power value\n",
    "    psd_max_power[col] = Pxx_den.max()\n",
    "    \n",
    "    # Plot in semilog scale\n",
    "    plt.semilogy(f, Pxx_den, label=col)\n",
    "\n",
    "plt.title(\"Power Spectral Density of Filtered EMG Channels\")\n",
    "plt.xlabel(\"Frequency [Hz]\")\n",
    "plt.ylabel(\"PSD [V^2/Hz]\")\n",
    "plt.ylim([1e-7, 1e1])\n",
    "plt.legend()\n",
    "plt.grid(True)\n",
    "plt.show()\n",
    "\n",
    "# Convert max power dict to DataFrame\n",
    "import pandas as pd\n",
    "psd_max_df = pd.DataFrame.from_dict(psd_max_power, orient='index', columns=['Max PSD Power'])\n",
    "display(psd_max_df)\n",
    "''' Stop Coding Here'''"
   ]
  },
  {
   "cell_type": "code",
   "execution_count": 12,
   "metadata": {
    "ExecuteTime": {
     "end_time": "2025-04-19T08:00:54.518109Z",
     "start_time": "2025-04-19T08:00:54.516788Z"
    }
   },
   "outputs": [],
   "source": []
  },
  {
   "cell_type": "markdown",
   "metadata": {},
   "source": [
    "# Segmenting Data\n",
    "Using your collected timestamps, we are now going to look at each gesture: rock, paper, scissors"
   ]
  },
  {
   "cell_type": "code",
   "execution_count": 13,
   "metadata": {
    "ExecuteTime": {
     "end_time": "2025-04-19T08:00:56.596623Z",
     "start_time": "2025-04-19T08:00:54.548474Z"
    }
   },
   "outputs": [
    {
     "data": {
      "text/plain": "                                 DeviceID Warm?  Sync   Arm  \\\nTimestamp                                                     \n2019-02-14 14:46:53.744402  2291479052128  warm  True  left   \n2019-02-14 14:46:53.744402  2291479052128  warm  True  left   \n2019-02-14 14:46:53.752382  2291479052128  warm  True  left   \n2019-02-14 14:46:53.752382  2291479052128  warm  True  left   \n2019-02-14 14:46:53.756350  2291479052128  warm  True  left   \n...                                   ...   ...   ...   ...   \n2019-02-14 16:13:28.749540  2291479052128  warm  True  left   \n2019-02-14 16:13:28.758516  2291479052128  warm  True  left   \n2019-02-14 16:13:28.758516  2291479052128  warm  True  left   \n2019-02-14 16:13:28.764500  2291479052128  warm  True  left   \n2019-02-14 16:13:28.764500  2291479052128  warm  True  left   \n\n                                             Timestamp  Orientation_W  \\\nTimestamp                                                               \n2019-02-14 14:46:53.744402  2019-02-14 14:46:53 744402      -0.514465   \n2019-02-14 14:46:53.744402  2019-02-14 14:46:53 744402      -0.514465   \n2019-02-14 14:46:53.752382  2019-02-14 14:46:53 752382      -0.514465   \n2019-02-14 14:46:53.752382  2019-02-14 14:46:53 752382      -0.514465   \n2019-02-14 14:46:53.756350  2019-02-14 14:46:53 756350      -0.519470   \n...                                                ...            ...   \n2019-02-14 16:13:28.749540  2019-02-14 16:13:28 749540      -0.416260   \n2019-02-14 16:13:28.758516  2019-02-14 16:13:28 758516      -0.413208   \n2019-02-14 16:13:28.758516  2019-02-14 16:13:28 758516      -0.413208   \n2019-02-14 16:13:28.764500  2019-02-14 16:13:28 764500      -0.413208   \n2019-02-14 16:13:28.764500  2019-02-14 16:13:28 764500      -0.413208   \n\n                            Orientation_X  Orientation_Y  Orientation_Z  \\\nTimestamp                                                                 \n2019-02-14 14:46:53.744402      -0.485779       0.287659      -0.645508   \n2019-02-14 14:46:53.744402      -0.485779       0.287659      -0.645508   \n2019-02-14 14:46:53.752382      -0.485779       0.287659      -0.645508   \n2019-02-14 14:46:53.752382      -0.485779       0.287659      -0.645508   \n2019-02-14 14:46:53.756350      -0.484497       0.291138      -0.640930   \n...                                   ...            ...            ...   \n2019-02-14 16:13:28.749540       0.036682      -0.058777      -0.906616   \n2019-02-14 16:13:28.758516       0.032410      -0.063416      -0.907898   \n2019-02-14 16:13:28.758516       0.032410      -0.063416      -0.907898   \n2019-02-14 16:13:28.764500       0.032410      -0.063416      -0.907898   \n2019-02-14 16:13:28.764500       0.032410      -0.063416      -0.907898   \n\n                               Acc_X  ...  EMG_4  EMG_5  EMG_6  EMG_7  EMG_8  \\\nTimestamp                             ...                                      \n2019-02-14 14:46:53.744402  1.326660  ...     -2      1     -1      1     -1   \n2019-02-14 14:46:53.744402  1.326660  ...     -3     -1      1      0      0   \n2019-02-14 14:46:53.752382  1.326660  ...      0     -1     -2      1     -1   \n2019-02-14 14:46:53.752382  1.326660  ...      0      0     -1     -2     -1   \n2019-02-14 14:46:53.756350  1.186035  ...      0      2     -1      1      1   \n...                              ...  ...    ...    ...    ...    ...    ...   \n2019-02-14 16:13:28.749540  0.765625  ...      7   -110   -117    -33    -12   \n2019-02-14 16:13:28.758516  0.768066  ...     -3   -118   -114    -28     -2   \n2019-02-14 16:13:28.758516  0.768066  ...     -1    -82   -128    -16     -2   \n2019-02-14 16:13:28.764500  0.768066  ...     12   -104   -119    -13     -1   \n2019-02-14 16:13:28.764500  0.768066  ...     -4    -92   -127      1      5   \n\n                           Locked  RSSI      Roll     Pitch       Yaw  \nTimestamp                                                              \n2019-02-14 14:46:53.744402  False     0  0.398451 -1.233521  1.567341  \n2019-02-14 14:46:53.744402  False     0  0.398451 -1.233521  1.567341  \n2019-02-14 14:46:53.752382  False     0  0.398451 -1.233521  1.567341  \n2019-02-14 14:46:53.752382  False     0  0.398451 -1.233521  1.567341  \n2019-02-14 14:46:53.756350  False     0  0.420894 -1.246889  1.542884  \n...                           ...   ...       ...       ...       ...  \n2019-02-14 16:13:28.749540  False     0  0.117068 -0.861911 -3.114586  \n2019-02-14 16:13:28.758516  False     0  0.135021 -0.854758 -3.131782  \n2019-02-14 16:13:28.758516  False     0  0.135021 -0.854758 -3.131782  \n2019-02-14 16:13:28.764500  False     0  0.135021 -0.854758 -3.131782  \n2019-02-14 16:13:28.764500  False     0  0.135021 -0.854758 -3.131782  \n\n[1405884 rows x 29 columns]",
      "text/html": "<div>\n<style scoped>\n    .dataframe tbody tr th:only-of-type {\n        vertical-align: middle;\n    }\n\n    .dataframe tbody tr th {\n        vertical-align: top;\n    }\n\n    .dataframe thead th {\n        text-align: right;\n    }\n</style>\n<table border=\"1\" class=\"dataframe\">\n  <thead>\n    <tr style=\"text-align: right;\">\n      <th></th>\n      <th>DeviceID</th>\n      <th>Warm?</th>\n      <th>Sync</th>\n      <th>Arm</th>\n      <th>Timestamp</th>\n      <th>Orientation_W</th>\n      <th>Orientation_X</th>\n      <th>Orientation_Y</th>\n      <th>Orientation_Z</th>\n      <th>Acc_X</th>\n      <th>...</th>\n      <th>EMG_4</th>\n      <th>EMG_5</th>\n      <th>EMG_6</th>\n      <th>EMG_7</th>\n      <th>EMG_8</th>\n      <th>Locked</th>\n      <th>RSSI</th>\n      <th>Roll</th>\n      <th>Pitch</th>\n      <th>Yaw</th>\n    </tr>\n    <tr>\n      <th>Timestamp</th>\n      <th></th>\n      <th></th>\n      <th></th>\n      <th></th>\n      <th></th>\n      <th></th>\n      <th></th>\n      <th></th>\n      <th></th>\n      <th></th>\n      <th></th>\n      <th></th>\n      <th></th>\n      <th></th>\n      <th></th>\n      <th></th>\n      <th></th>\n      <th></th>\n      <th></th>\n      <th></th>\n      <th></th>\n    </tr>\n  </thead>\n  <tbody>\n    <tr>\n      <th>2019-02-14 14:46:53.744402</th>\n      <td>2291479052128</td>\n      <td>warm</td>\n      <td>True</td>\n      <td>left</td>\n      <td>2019-02-14 14:46:53 744402</td>\n      <td>-0.514465</td>\n      <td>-0.485779</td>\n      <td>0.287659</td>\n      <td>-0.645508</td>\n      <td>1.326660</td>\n      <td>...</td>\n      <td>-2</td>\n      <td>1</td>\n      <td>-1</td>\n      <td>1</td>\n      <td>-1</td>\n      <td>False</td>\n      <td>0</td>\n      <td>0.398451</td>\n      <td>-1.233521</td>\n      <td>1.567341</td>\n    </tr>\n    <tr>\n      <th>2019-02-14 14:46:53.744402</th>\n      <td>2291479052128</td>\n      <td>warm</td>\n      <td>True</td>\n      <td>left</td>\n      <td>2019-02-14 14:46:53 744402</td>\n      <td>-0.514465</td>\n      <td>-0.485779</td>\n      <td>0.287659</td>\n      <td>-0.645508</td>\n      <td>1.326660</td>\n      <td>...</td>\n      <td>-3</td>\n      <td>-1</td>\n      <td>1</td>\n      <td>0</td>\n      <td>0</td>\n      <td>False</td>\n      <td>0</td>\n      <td>0.398451</td>\n      <td>-1.233521</td>\n      <td>1.567341</td>\n    </tr>\n    <tr>\n      <th>2019-02-14 14:46:53.752382</th>\n      <td>2291479052128</td>\n      <td>warm</td>\n      <td>True</td>\n      <td>left</td>\n      <td>2019-02-14 14:46:53 752382</td>\n      <td>-0.514465</td>\n      <td>-0.485779</td>\n      <td>0.287659</td>\n      <td>-0.645508</td>\n      <td>1.326660</td>\n      <td>...</td>\n      <td>0</td>\n      <td>-1</td>\n      <td>-2</td>\n      <td>1</td>\n      <td>-1</td>\n      <td>False</td>\n      <td>0</td>\n      <td>0.398451</td>\n      <td>-1.233521</td>\n      <td>1.567341</td>\n    </tr>\n    <tr>\n      <th>2019-02-14 14:46:53.752382</th>\n      <td>2291479052128</td>\n      <td>warm</td>\n      <td>True</td>\n      <td>left</td>\n      <td>2019-02-14 14:46:53 752382</td>\n      <td>-0.514465</td>\n      <td>-0.485779</td>\n      <td>0.287659</td>\n      <td>-0.645508</td>\n      <td>1.326660</td>\n      <td>...</td>\n      <td>0</td>\n      <td>0</td>\n      <td>-1</td>\n      <td>-2</td>\n      <td>-1</td>\n      <td>False</td>\n      <td>0</td>\n      <td>0.398451</td>\n      <td>-1.233521</td>\n      <td>1.567341</td>\n    </tr>\n    <tr>\n      <th>2019-02-14 14:46:53.756350</th>\n      <td>2291479052128</td>\n      <td>warm</td>\n      <td>True</td>\n      <td>left</td>\n      <td>2019-02-14 14:46:53 756350</td>\n      <td>-0.519470</td>\n      <td>-0.484497</td>\n      <td>0.291138</td>\n      <td>-0.640930</td>\n      <td>1.186035</td>\n      <td>...</td>\n      <td>0</td>\n      <td>2</td>\n      <td>-1</td>\n      <td>1</td>\n      <td>1</td>\n      <td>False</td>\n      <td>0</td>\n      <td>0.420894</td>\n      <td>-1.246889</td>\n      <td>1.542884</td>\n    </tr>\n    <tr>\n      <th>...</th>\n      <td>...</td>\n      <td>...</td>\n      <td>...</td>\n      <td>...</td>\n      <td>...</td>\n      <td>...</td>\n      <td>...</td>\n      <td>...</td>\n      <td>...</td>\n      <td>...</td>\n      <td>...</td>\n      <td>...</td>\n      <td>...</td>\n      <td>...</td>\n      <td>...</td>\n      <td>...</td>\n      <td>...</td>\n      <td>...</td>\n      <td>...</td>\n      <td>...</td>\n      <td>...</td>\n    </tr>\n    <tr>\n      <th>2019-02-14 16:13:28.749540</th>\n      <td>2291479052128</td>\n      <td>warm</td>\n      <td>True</td>\n      <td>left</td>\n      <td>2019-02-14 16:13:28 749540</td>\n      <td>-0.416260</td>\n      <td>0.036682</td>\n      <td>-0.058777</td>\n      <td>-0.906616</td>\n      <td>0.765625</td>\n      <td>...</td>\n      <td>7</td>\n      <td>-110</td>\n      <td>-117</td>\n      <td>-33</td>\n      <td>-12</td>\n      <td>False</td>\n      <td>0</td>\n      <td>0.117068</td>\n      <td>-0.861911</td>\n      <td>-3.114586</td>\n    </tr>\n    <tr>\n      <th>2019-02-14 16:13:28.758516</th>\n      <td>2291479052128</td>\n      <td>warm</td>\n      <td>True</td>\n      <td>left</td>\n      <td>2019-02-14 16:13:28 758516</td>\n      <td>-0.413208</td>\n      <td>0.032410</td>\n      <td>-0.063416</td>\n      <td>-0.907898</td>\n      <td>0.768066</td>\n      <td>...</td>\n      <td>-3</td>\n      <td>-118</td>\n      <td>-114</td>\n      <td>-28</td>\n      <td>-2</td>\n      <td>False</td>\n      <td>0</td>\n      <td>0.135021</td>\n      <td>-0.854758</td>\n      <td>-3.131782</td>\n    </tr>\n    <tr>\n      <th>2019-02-14 16:13:28.758516</th>\n      <td>2291479052128</td>\n      <td>warm</td>\n      <td>True</td>\n      <td>left</td>\n      <td>2019-02-14 16:13:28 758516</td>\n      <td>-0.413208</td>\n      <td>0.032410</td>\n      <td>-0.063416</td>\n      <td>-0.907898</td>\n      <td>0.768066</td>\n      <td>...</td>\n      <td>-1</td>\n      <td>-82</td>\n      <td>-128</td>\n      <td>-16</td>\n      <td>-2</td>\n      <td>False</td>\n      <td>0</td>\n      <td>0.135021</td>\n      <td>-0.854758</td>\n      <td>-3.131782</td>\n    </tr>\n    <tr>\n      <th>2019-02-14 16:13:28.764500</th>\n      <td>2291479052128</td>\n      <td>warm</td>\n      <td>True</td>\n      <td>left</td>\n      <td>2019-02-14 16:13:28 764500</td>\n      <td>-0.413208</td>\n      <td>0.032410</td>\n      <td>-0.063416</td>\n      <td>-0.907898</td>\n      <td>0.768066</td>\n      <td>...</td>\n      <td>12</td>\n      <td>-104</td>\n      <td>-119</td>\n      <td>-13</td>\n      <td>-1</td>\n      <td>False</td>\n      <td>0</td>\n      <td>0.135021</td>\n      <td>-0.854758</td>\n      <td>-3.131782</td>\n    </tr>\n    <tr>\n      <th>2019-02-14 16:13:28.764500</th>\n      <td>2291479052128</td>\n      <td>warm</td>\n      <td>True</td>\n      <td>left</td>\n      <td>2019-02-14 16:13:28 764500</td>\n      <td>-0.413208</td>\n      <td>0.032410</td>\n      <td>-0.063416</td>\n      <td>-0.907898</td>\n      <td>0.768066</td>\n      <td>...</td>\n      <td>-4</td>\n      <td>-92</td>\n      <td>-127</td>\n      <td>1</td>\n      <td>5</td>\n      <td>False</td>\n      <td>0</td>\n      <td>0.135021</td>\n      <td>-0.854758</td>\n      <td>-3.131782</td>\n    </tr>\n  </tbody>\n</table>\n<p>1405884 rows × 29 columns</p>\n</div>"
     },
     "metadata": {},
     "output_type": "display_data"
    }
   ],
   "source": [
    "'''First, we need to set pandas indexes to timestamps'''\n",
    "myo_df.index = pd.to_datetime(myo_df['Timestamp'], format='%Y-%m-%d %H:%M:%S %f' )\n",
    "display(myo_df)"
   ]
  },
  {
   "cell_type": "code",
   "execution_count": 14,
   "metadata": {
    "ExecuteTime": {
     "end_time": "2025-04-19T08:00:56.704856Z",
     "start_time": "2025-04-19T08:00:56.597180Z"
    }
   },
   "outputs": [
    {
     "data": {
      "text/plain": "                                 DeviceID Warm?  Sync   Arm  \\\nTimestamp                                                     \n2019-02-14 14:46:53.744402  2291479052128  warm  True  left   \n2019-02-14 14:46:53.744402  2291479052128  warm  True  left   \n2019-02-14 14:46:53.752382  2291479052128  warm  True  left   \n2019-02-14 14:46:53.752382  2291479052128  warm  True  left   \n2019-02-14 14:46:53.756350  2291479052128  warm  True  left   \n...                                   ...   ...   ...   ...   \n2019-02-14 14:47:27.604011  2291479052128  warm  True  left   \n2019-02-14 14:47:27.619038  2291479052128  warm  True  left   \n2019-02-14 14:47:27.619038  2291479052128  warm  True  left   \n2019-02-14 14:47:27.619968  2291479052128  warm  True  left   \n2019-02-14 14:47:27.619968  2291479052128  warm  True  left   \n\n                                             Timestamp  Orientation_W  \\\nTimestamp                                                               \n2019-02-14 14:46:53.744402  2019-02-14 14:46:53 744402      -0.514465   \n2019-02-14 14:46:53.744402  2019-02-14 14:46:53 744402      -0.514465   \n2019-02-14 14:46:53.752382  2019-02-14 14:46:53 752382      -0.514465   \n2019-02-14 14:46:53.752382  2019-02-14 14:46:53 752382      -0.514465   \n2019-02-14 14:46:53.756350  2019-02-14 14:46:53 756350      -0.519470   \n...                                                ...            ...   \n2019-02-14 14:47:27.604011  2019-02-14 14:47:27 604011       0.150879   \n2019-02-14 14:47:27.619038  2019-02-14 14:47:27 619038       0.151001   \n2019-02-14 14:47:27.619038  2019-02-14 14:47:27 619038       0.151001   \n2019-02-14 14:47:27.619968  2019-02-14 14:47:27 619968       0.151001   \n2019-02-14 14:47:27.619968  2019-02-14 14:47:27 619968       0.151001   \n\n                            Orientation_X  Orientation_Y  Orientation_Z  \\\nTimestamp                                                                 \n2019-02-14 14:46:53.744402      -0.485779       0.287659      -0.645508   \n2019-02-14 14:46:53.744402      -0.485779       0.287659      -0.645508   \n2019-02-14 14:46:53.752382      -0.485779       0.287659      -0.645508   \n2019-02-14 14:46:53.752382      -0.485779       0.287659      -0.645508   \n2019-02-14 14:46:53.756350      -0.484497       0.291138      -0.640930   \n...                                   ...            ...            ...   \n2019-02-14 14:47:27.604011      -0.792053      -0.540100      -0.241394   \n2019-02-14 14:47:27.619038      -0.792786      -0.540466      -0.238037   \n2019-02-14 14:47:27.619038      -0.792786      -0.540466      -0.238037   \n2019-02-14 14:47:27.619968      -0.792786      -0.540466      -0.238037   \n2019-02-14 14:47:27.619968      -0.792786      -0.540466      -0.238037   \n\n                               Acc_X  ...  EMG_4  EMG_5  EMG_6  EMG_7  EMG_8  \\\nTimestamp                             ...                                      \n2019-02-14 14:46:53.744402  1.326660  ...     -2      1     -1      1     -1   \n2019-02-14 14:46:53.744402  1.326660  ...     -3     -1      1      0      0   \n2019-02-14 14:46:53.752382  1.326660  ...      0     -1     -2      1     -1   \n2019-02-14 14:46:53.752382  1.326660  ...      0      0     -1     -2     -1   \n2019-02-14 14:46:53.756350  1.186035  ...      0      2     -1      1      1   \n...                              ...  ...    ...    ...    ...    ...    ...   \n2019-02-14 14:47:27.604011 -1.056641  ...     -4     36     -4      3     25   \n2019-02-14 14:47:27.619038 -1.041992  ...     -1     10      1     23     39   \n2019-02-14 14:47:27.619038 -1.041992  ...      3    -24      0     17     42   \n2019-02-14 14:47:27.619968 -1.041992  ...     -9    -60     -6    -76     -2   \n2019-02-14 14:47:27.619968 -1.041992  ...      5    -19     -5      5      9   \n\n                           Locked  RSSI      Roll     Pitch       Yaw  \nTimestamp                                                              \n2019-02-14 14:46:53.744402  False     0  0.398451 -1.233521  1.567341  \n2019-02-14 14:46:53.744402  False     0  0.398451 -1.233521  1.567341  \n2019-02-14 14:46:53.752382  False     0  0.398451 -1.233521  1.567341  \n2019-02-14 14:46:53.752382  False     0  0.398451 -1.233521  1.567341  \n2019-02-14 14:46:53.756350  False     0  0.420894 -1.246889  1.542884  \n...                           ...   ...       ...       ...       ...  \n2019-02-14 14:47:27.604011  False     0  0.058538  1.190134  0.631412  \n2019-02-14 14:47:27.619038  False     0  0.048260  1.191257  0.616196  \n2019-02-14 14:47:27.619038  False     0  0.048260  1.191257  0.616196  \n2019-02-14 14:47:27.619968  False     0  0.048260  1.191257  0.616196  \n2019-02-14 14:47:27.619968  False     0  0.048260  1.191257  0.616196  \n\n[6764 rows x 29 columns]",
      "text/html": "<div>\n<style scoped>\n    .dataframe tbody tr th:only-of-type {\n        vertical-align: middle;\n    }\n\n    .dataframe tbody tr th {\n        vertical-align: top;\n    }\n\n    .dataframe thead th {\n        text-align: right;\n    }\n</style>\n<table border=\"1\" class=\"dataframe\">\n  <thead>\n    <tr style=\"text-align: right;\">\n      <th></th>\n      <th>DeviceID</th>\n      <th>Warm?</th>\n      <th>Sync</th>\n      <th>Arm</th>\n      <th>Timestamp</th>\n      <th>Orientation_W</th>\n      <th>Orientation_X</th>\n      <th>Orientation_Y</th>\n      <th>Orientation_Z</th>\n      <th>Acc_X</th>\n      <th>...</th>\n      <th>EMG_4</th>\n      <th>EMG_5</th>\n      <th>EMG_6</th>\n      <th>EMG_7</th>\n      <th>EMG_8</th>\n      <th>Locked</th>\n      <th>RSSI</th>\n      <th>Roll</th>\n      <th>Pitch</th>\n      <th>Yaw</th>\n    </tr>\n    <tr>\n      <th>Timestamp</th>\n      <th></th>\n      <th></th>\n      <th></th>\n      <th></th>\n      <th></th>\n      <th></th>\n      <th></th>\n      <th></th>\n      <th></th>\n      <th></th>\n      <th></th>\n      <th></th>\n      <th></th>\n      <th></th>\n      <th></th>\n      <th></th>\n      <th></th>\n      <th></th>\n      <th></th>\n      <th></th>\n      <th></th>\n    </tr>\n  </thead>\n  <tbody>\n    <tr>\n      <th>2019-02-14 14:46:53.744402</th>\n      <td>2291479052128</td>\n      <td>warm</td>\n      <td>True</td>\n      <td>left</td>\n      <td>2019-02-14 14:46:53 744402</td>\n      <td>-0.514465</td>\n      <td>-0.485779</td>\n      <td>0.287659</td>\n      <td>-0.645508</td>\n      <td>1.326660</td>\n      <td>...</td>\n      <td>-2</td>\n      <td>1</td>\n      <td>-1</td>\n      <td>1</td>\n      <td>-1</td>\n      <td>False</td>\n      <td>0</td>\n      <td>0.398451</td>\n      <td>-1.233521</td>\n      <td>1.567341</td>\n    </tr>\n    <tr>\n      <th>2019-02-14 14:46:53.744402</th>\n      <td>2291479052128</td>\n      <td>warm</td>\n      <td>True</td>\n      <td>left</td>\n      <td>2019-02-14 14:46:53 744402</td>\n      <td>-0.514465</td>\n      <td>-0.485779</td>\n      <td>0.287659</td>\n      <td>-0.645508</td>\n      <td>1.326660</td>\n      <td>...</td>\n      <td>-3</td>\n      <td>-1</td>\n      <td>1</td>\n      <td>0</td>\n      <td>0</td>\n      <td>False</td>\n      <td>0</td>\n      <td>0.398451</td>\n      <td>-1.233521</td>\n      <td>1.567341</td>\n    </tr>\n    <tr>\n      <th>2019-02-14 14:46:53.752382</th>\n      <td>2291479052128</td>\n      <td>warm</td>\n      <td>True</td>\n      <td>left</td>\n      <td>2019-02-14 14:46:53 752382</td>\n      <td>-0.514465</td>\n      <td>-0.485779</td>\n      <td>0.287659</td>\n      <td>-0.645508</td>\n      <td>1.326660</td>\n      <td>...</td>\n      <td>0</td>\n      <td>-1</td>\n      <td>-2</td>\n      <td>1</td>\n      <td>-1</td>\n      <td>False</td>\n      <td>0</td>\n      <td>0.398451</td>\n      <td>-1.233521</td>\n      <td>1.567341</td>\n    </tr>\n    <tr>\n      <th>2019-02-14 14:46:53.752382</th>\n      <td>2291479052128</td>\n      <td>warm</td>\n      <td>True</td>\n      <td>left</td>\n      <td>2019-02-14 14:46:53 752382</td>\n      <td>-0.514465</td>\n      <td>-0.485779</td>\n      <td>0.287659</td>\n      <td>-0.645508</td>\n      <td>1.326660</td>\n      <td>...</td>\n      <td>0</td>\n      <td>0</td>\n      <td>-1</td>\n      <td>-2</td>\n      <td>-1</td>\n      <td>False</td>\n      <td>0</td>\n      <td>0.398451</td>\n      <td>-1.233521</td>\n      <td>1.567341</td>\n    </tr>\n    <tr>\n      <th>2019-02-14 14:46:53.756350</th>\n      <td>2291479052128</td>\n      <td>warm</td>\n      <td>True</td>\n      <td>left</td>\n      <td>2019-02-14 14:46:53 756350</td>\n      <td>-0.519470</td>\n      <td>-0.484497</td>\n      <td>0.291138</td>\n      <td>-0.640930</td>\n      <td>1.186035</td>\n      <td>...</td>\n      <td>0</td>\n      <td>2</td>\n      <td>-1</td>\n      <td>1</td>\n      <td>1</td>\n      <td>False</td>\n      <td>0</td>\n      <td>0.420894</td>\n      <td>-1.246889</td>\n      <td>1.542884</td>\n    </tr>\n    <tr>\n      <th>...</th>\n      <td>...</td>\n      <td>...</td>\n      <td>...</td>\n      <td>...</td>\n      <td>...</td>\n      <td>...</td>\n      <td>...</td>\n      <td>...</td>\n      <td>...</td>\n      <td>...</td>\n      <td>...</td>\n      <td>...</td>\n      <td>...</td>\n      <td>...</td>\n      <td>...</td>\n      <td>...</td>\n      <td>...</td>\n      <td>...</td>\n      <td>...</td>\n      <td>...</td>\n      <td>...</td>\n    </tr>\n    <tr>\n      <th>2019-02-14 14:47:27.604011</th>\n      <td>2291479052128</td>\n      <td>warm</td>\n      <td>True</td>\n      <td>left</td>\n      <td>2019-02-14 14:47:27 604011</td>\n      <td>0.150879</td>\n      <td>-0.792053</td>\n      <td>-0.540100</td>\n      <td>-0.241394</td>\n      <td>-1.056641</td>\n      <td>...</td>\n      <td>-4</td>\n      <td>36</td>\n      <td>-4</td>\n      <td>3</td>\n      <td>25</td>\n      <td>False</td>\n      <td>0</td>\n      <td>0.058538</td>\n      <td>1.190134</td>\n      <td>0.631412</td>\n    </tr>\n    <tr>\n      <th>2019-02-14 14:47:27.619038</th>\n      <td>2291479052128</td>\n      <td>warm</td>\n      <td>True</td>\n      <td>left</td>\n      <td>2019-02-14 14:47:27 619038</td>\n      <td>0.151001</td>\n      <td>-0.792786</td>\n      <td>-0.540466</td>\n      <td>-0.238037</td>\n      <td>-1.041992</td>\n      <td>...</td>\n      <td>-1</td>\n      <td>10</td>\n      <td>1</td>\n      <td>23</td>\n      <td>39</td>\n      <td>False</td>\n      <td>0</td>\n      <td>0.048260</td>\n      <td>1.191257</td>\n      <td>0.616196</td>\n    </tr>\n    <tr>\n      <th>2019-02-14 14:47:27.619038</th>\n      <td>2291479052128</td>\n      <td>warm</td>\n      <td>True</td>\n      <td>left</td>\n      <td>2019-02-14 14:47:27 619038</td>\n      <td>0.151001</td>\n      <td>-0.792786</td>\n      <td>-0.540466</td>\n      <td>-0.238037</td>\n      <td>-1.041992</td>\n      <td>...</td>\n      <td>3</td>\n      <td>-24</td>\n      <td>0</td>\n      <td>17</td>\n      <td>42</td>\n      <td>False</td>\n      <td>0</td>\n      <td>0.048260</td>\n      <td>1.191257</td>\n      <td>0.616196</td>\n    </tr>\n    <tr>\n      <th>2019-02-14 14:47:27.619968</th>\n      <td>2291479052128</td>\n      <td>warm</td>\n      <td>True</td>\n      <td>left</td>\n      <td>2019-02-14 14:47:27 619968</td>\n      <td>0.151001</td>\n      <td>-0.792786</td>\n      <td>-0.540466</td>\n      <td>-0.238037</td>\n      <td>-1.041992</td>\n      <td>...</td>\n      <td>-9</td>\n      <td>-60</td>\n      <td>-6</td>\n      <td>-76</td>\n      <td>-2</td>\n      <td>False</td>\n      <td>0</td>\n      <td>0.048260</td>\n      <td>1.191257</td>\n      <td>0.616196</td>\n    </tr>\n    <tr>\n      <th>2019-02-14 14:47:27.619968</th>\n      <td>2291479052128</td>\n      <td>warm</td>\n      <td>True</td>\n      <td>left</td>\n      <td>2019-02-14 14:47:27 619968</td>\n      <td>0.151001</td>\n      <td>-0.792786</td>\n      <td>-0.540466</td>\n      <td>-0.238037</td>\n      <td>-1.041992</td>\n      <td>...</td>\n      <td>5</td>\n      <td>-19</td>\n      <td>-5</td>\n      <td>5</td>\n      <td>9</td>\n      <td>False</td>\n      <td>0</td>\n      <td>0.048260</td>\n      <td>1.191257</td>\n      <td>0.616196</td>\n    </tr>\n  </tbody>\n</table>\n<p>6764 rows × 29 columns</p>\n</div>"
     },
     "metadata": {},
     "output_type": "display_data"
    },
    {
     "data": {
      "text/plain": "' Notice that we did not need to specify the nano seconds'"
     },
     "execution_count": 14,
     "metadata": {},
     "output_type": "execute_result"
    }
   ],
   "source": [
    "'''Then we can segment data using the indexes'''\n",
    "start = pd.to_datetime('2019-02-14 14:46:53')\n",
    "stop  = pd.to_datetime('2019-02-14 14:48:53')\n",
    "gesture_df = myo_df[start:stop]\n",
    "display(gesture_df)\n",
    "''' Notice that we did not need to specify the nano seconds'''"
   ]
  },
  {
   "cell_type": "markdown",
   "metadata": {},
   "source": [
    "## Reading in XDF\n",
    "Now we are going to read in from an XDF file"
   ]
  },
  {
   "cell_type": "code",
   "execution_count": 15,
   "metadata": {
    "ExecuteTime": {
     "end_time": "2025-04-19T08:00:56.814923Z",
     "start_time": "2025-04-19T08:00:56.652357Z"
    }
   },
   "outputs": [
    {
     "ename": "ModuleNotFoundError",
     "evalue": "No module named 'pyxdf'",
     "output_type": "error",
     "traceback": [
      "\u001B[0;31m---------------------------------------------------------------------------\u001B[0m",
      "\u001B[0;31mModuleNotFoundError\u001B[0m                       Traceback (most recent call last)",
      "\u001B[0;32m/var/folders/q0/b22ckbp525l0nyrhc0fwcy840000gn/T/ipykernel_31962/661219003.py\u001B[0m in \u001B[0;36m<module>\u001B[0;34m\u001B[0m\n\u001B[1;32m      1\u001B[0m \u001B[0;34m''' Imports and useful functions'''\u001B[0m\u001B[0;34m\u001B[0m\u001B[0;34m\u001B[0m\u001B[0m\n\u001B[0;32m----> 2\u001B[0;31m \u001B[0;32mimport\u001B[0m \u001B[0mpyxdf\u001B[0m\u001B[0;34m\u001B[0m\u001B[0;34m\u001B[0m\u001B[0m\n\u001B[0m\u001B[1;32m      3\u001B[0m \u001B[0;34m\u001B[0m\u001B[0m\n\u001B[1;32m      4\u001B[0m \u001B[0;32mdef\u001B[0m \u001B[0mxdf_to_dataframe\u001B[0m\u001B[0;34m(\u001B[0m\u001B[0mxdf_data\u001B[0m\u001B[0;34m)\u001B[0m\u001B[0;34m:\u001B[0m\u001B[0;34m\u001B[0m\u001B[0;34m\u001B[0m\u001B[0m\n\u001B[1;32m      5\u001B[0m     ''' Xdf Data should be a list of streams (dictionaries)\n",
      "\u001B[0;31mModuleNotFoundError\u001B[0m: No module named 'pyxdf'"
     ]
    }
   ],
   "source": [
    "''' Imports and useful functions'''\n",
    "import pyxdf\n",
    "\n",
    "def xdf_to_dataframe(xdf_data):\n",
    "    ''' Xdf Data should be a list of streams (dictionaries)\n",
    "        Function returns a dictionary of dataframes, one dataframe per stream'''  \n",
    "    dataframes = {}\n",
    "    for stream in xdf_data:\n",
    "        df = pd.DataFrame()\n",
    "        data = stream['time_series']\n",
    "        timestamps = stream['time_stamps']\n",
    "        df['Time'] = timestamps\n",
    "        chan_names, units = get_channel_names(stream['info'])\n",
    "        counts = data.shape[0]\n",
    "        for series, name, unit in zip(range(data.shape[1]), chan_names, units):\n",
    "            df[name[0]]  = data[:, series]\n",
    "            if unit:\n",
    "                df[name[0] + '_Unit'] = np.repeat(unit, counts)\n",
    "        \n",
    "        for item in stream['info']:\n",
    "            if item not in ['name', 'desc', 'data']:\n",
    "                try:\n",
    "                    df[item] = np.repeat(stream['info'][item], counts)\n",
    "                except:\n",
    "                    continue\n",
    "        dataframes[stream['info']['name'][0]] = df\n",
    "        \n",
    "    return dataframes\n",
    "            \n",
    "        \n",
    "        \n",
    "\n",
    "def get_channel_names(info):\n",
    "    channels = info['desc'][0]['channels'][0]['channel']\n",
    "    names = [chan['label'] for chan in channels ]\n",
    "    units = [chan['unit'] for chan in channels ]\n",
    "    return names, units"
   ]
  },
  {
   "cell_type": "code",
   "execution_count": null,
   "metadata": {
    "ExecuteTime": {
     "start_time": "2025-04-19T08:00:56.758482Z"
    }
   },
   "outputs": [],
   "source": [
    "data, header = pyxdf.load_xdf('Data/test.xdf')\n",
    "dfs = xdf_to_dataframe(data)\n",
    "display(dfs['BioRadio-20312'])\n",
    "''' Save new dataframe'''\n",
    "dfs['BioRadio-20312'].to_csv('Data/test.csv')"
   ]
  },
  {
   "cell_type": "markdown",
   "metadata": {},
   "source": [
    "# Your turn!\n",
    "The above code introduced you to some simple EMG processing from already collected data, but now lets use your data.\n",
    "\n",
    "For the Myo and BioRadio, do the following for each EMG channel:\n",
    "- Import the files\n",
    "- Segment the data for one Rock, Paper, and Scissors gesture based on your collected timestamps\n",
    "- Filter each gesture using a bandpass filter and a notch filter (at 60 hz)\n",
    "- Plot the Filtered EMG signals and the Power Spectral Density of each Gesture\n",
    "- Determine the Max Power for each Gesture\n",
    "- Determine the mean/standard deviation for each Gesture\n",
    "\n",
    "Your report should include each plot in an appendix.\n",
    "\n",
    "In the main body of your report, include a table for each gesture that has columns: Device, EMG Channel Number, Mean, Std Dev, Max Power. Fill out the rows"
   ]
  },
  {
   "cell_type": "code",
   "execution_count": null,
   "metadata": {
    "ExecuteTime": {
     "start_time": "2025-04-19T08:00:56.760691Z"
    }
   },
   "outputs": [],
   "source": [
    "\n",
    "    \n",
    "\n"
   ]
  },
  {
   "cell_type": "code",
   "execution_count": null,
   "metadata": {
    "ExecuteTime": {
     "start_time": "2025-04-19T08:00:56.762848Z"
    }
   },
   "outputs": [],
   "source": []
  },
  {
   "cell_type": "code",
   "execution_count": null,
   "metadata": {
    "ExecuteTime": {
     "start_time": "2025-04-19T08:00:56.765192Z"
    }
   },
   "outputs": [],
   "source": []
  },
  {
   "cell_type": "code",
   "execution_count": null,
   "metadata": {
    "ExecuteTime": {
     "start_time": "2025-04-19T08:00:56.767417Z"
    }
   },
   "outputs": [],
   "source": []
  },
  {
   "cell_type": "code",
   "execution_count": null,
   "metadata": {
    "ExecuteTime": {
     "start_time": "2025-04-19T08:00:56.769585Z"
    }
   },
   "outputs": [],
   "source": []
  },
  {
   "cell_type": "code",
   "execution_count": null,
   "metadata": {
    "ExecuteTime": {
     "start_time": "2025-04-19T08:00:56.770828Z"
    }
   },
   "outputs": [],
   "source": []
  },
  {
   "cell_type": "code",
   "execution_count": null,
   "metadata": {
    "ExecuteTime": {
     "start_time": "2025-04-19T08:00:56.771851Z"
    }
   },
   "outputs": [],
   "source": []
  },
  {
   "cell_type": "code",
   "execution_count": null,
   "metadata": {
    "ExecuteTime": {
     "start_time": "2025-04-19T08:00:56.772909Z"
    }
   },
   "outputs": [],
   "source": []
  },
  {
   "cell_type": "code",
   "execution_count": null,
   "metadata": {
    "ExecuteTime": {
     "start_time": "2025-04-19T08:00:56.773689Z"
    }
   },
   "outputs": [],
   "source": []
  },
  {
   "cell_type": "code",
   "execution_count": null,
   "metadata": {
    "ExecuteTime": {
     "start_time": "2025-04-19T08:00:56.774803Z"
    }
   },
   "outputs": [],
   "source": []
  },
  {
   "cell_type": "code",
   "execution_count": null,
   "metadata": {
    "ExecuteTime": {
     "start_time": "2025-04-19T08:00:56.775916Z"
    }
   },
   "outputs": [],
   "source": []
  }
 ],
 "metadata": {
  "kernelspec": {
   "display_name": "Python 3",
   "language": "python",
   "name": "python3"
  },
  "language_info": {
   "codemirror_mode": {
    "name": "ipython",
    "version": 3
   },
   "file_extension": ".py",
   "mimetype": "text/x-python",
   "name": "python",
   "nbconvert_exporter": "python",
   "pygments_lexer": "ipython3",
   "version": "3.8.5"
  }
 },
 "nbformat": 4,
 "nbformat_minor": 2
}
